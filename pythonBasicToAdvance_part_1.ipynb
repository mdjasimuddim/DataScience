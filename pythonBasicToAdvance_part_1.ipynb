{
  "nbformat": 4,
  "nbformat_minor": 0,
  "metadata": {
    "colab": {
      "provenance": [],
      "include_colab_link": true
    },
    "kernelspec": {
      "name": "python3",
      "display_name": "Python 3"
    },
    "language_info": {
      "name": "python"
    }
  },
  "cells": [
    {
      "cell_type": "markdown",
      "metadata": {
        "id": "view-in-github",
        "colab_type": "text"
      },
      "source": [
        "<a href=\"https://colab.research.google.com/github/mdjasimuddim/DataScience/blob/main/pythonBasicToAdvance_part_1.ipynb\" target=\"_parent\"><img src=\"https://colab.research.google.com/assets/colab-badge.svg\" alt=\"Open In Colab\"/></a>"
      ]
    },
    {
      "cell_type": "markdown",
      "source": [
        "**Why Python so popular?**"
      ],
      "metadata": {
        "id": "Usu7fdYWJm2a"
      }
    },
    {
      "cell_type": "code",
      "execution_count": null,
      "metadata": {
        "id": "Kcd0Ya34HJOv"
      },
      "outputs": [],
      "source": [
        "# Easy to Learn and strong community support\n",
        "# Python libraries\n",
        "# Python for Web Development\n",
        "# Python for Data Science & Machine Learning\n",
        "# Python for Data Analysis\n",
        "# Python for CV\n",
        "# Python for Games Development\n",
        "# Python for Cyber Security\n",
        "#Python for automation"
      ]
    },
    {
      "cell_type": "markdown",
      "source": [
        "**Tutorial** **02**"
      ],
      "metadata": {
        "id": "0ndhcmIXpTRA"
      }
    },
    {
      "cell_type": "code",
      "source": [
        "'Data science'  #basic phython"
      ],
      "metadata": {
        "colab": {
          "base_uri": "https://localhost:8080/",
          "height": 36
        },
        "id": "c03ElnQYpZQA",
        "outputId": "a237f3ee-4727-45c0-e6ae-fe5fb7901024"
      },
      "execution_count": null,
      "outputs": [
        {
          "output_type": "execute_result",
          "data": {
            "text/plain": [
              "'Data science'"
            ],
            "application/vnd.google.colaboratory.intrinsic+json": {
              "type": "string"
            }
          },
          "metadata": {},
          "execution_count": 40
        }
      ]
    },
    {
      "cell_type": "code",
      "source": [
        "'Data science'   #for run from keyboard = (shift + enter)"
      ],
      "metadata": {
        "colab": {
          "base_uri": "https://localhost:8080/",
          "height": 36
        },
        "id": "sy2tBVUA0ok2",
        "outputId": "16fd4ed6-9735-4df8-9b6a-91723bb88729"
      },
      "execution_count": null,
      "outputs": [
        {
          "output_type": "execute_result",
          "data": {
            "text/plain": [
              "'Data science'"
            ],
            "application/vnd.google.colaboratory.intrinsic+json": {
              "type": "string"
            }
          },
          "metadata": {},
          "execution_count": 41
        }
      ]
    },
    {
      "cell_type": "markdown",
      "source": [
        "Code with comment"
      ],
      "metadata": {
        "id": "CnD4DpEegOSD"
      }
    },
    {
      "cell_type": "code",
      "source": [
        "print('Hello world','I am from Rajshahi','i am study cse in bsc',sep =\"*\", end = '\\n')   # in jubiter for see what has happended with in print function, command will be --- shift + tab"
      ],
      "metadata": {
        "colab": {
          "base_uri": "https://localhost:8080/"
        },
        "id": "AECyjJb80sO1",
        "outputId": "ab02e679-f4bc-4501-a922-565eaa19335b"
      },
      "execution_count": null,
      "outputs": [
        {
          "output_type": "stream",
          "name": "stdout",
          "text": [
            "Hello world*I am from Rajshahi*i am study cse in bsc\n"
          ]
        }
      ]
    },
    {
      "cell_type": "code",
      "source": [
        "var = 'Hello world'\n",
        "print('This line i will print the value of var',var)"
      ],
      "metadata": {
        "colab": {
          "base_uri": "https://localhost:8080/"
        },
        "id": "sAHc5lsU4A_t",
        "outputId": "bc014965-1fc9-4652-e561-0ab7e74de419"
      },
      "execution_count": null,
      "outputs": [
        {
          "output_type": "stream",
          "name": "stdout",
          "text": [
            "This line i will print the value of var Hello world\n"
          ]
        }
      ]
    },
    {
      "cell_type": "code",
      "source": [
        "id(var)   #where memory save it means memory location"
      ],
      "metadata": {
        "colab": {
          "base_uri": "https://localhost:8080/"
        },
        "id": "RluY4M-36BYt",
        "outputId": "4f26d7aa-f4d4-4c18-eae1-c68eadfb422a"
      },
      "execution_count": null,
      "outputs": [
        {
          "output_type": "execute_result",
          "data": {
            "text/plain": [
              "140664148252272"
            ]
          },
          "metadata": {},
          "execution_count": 44
        }
      ]
    },
    {
      "cell_type": "code",
      "source": [
        "import sys\n",
        "sys.getsizeof(var)   #variable size"
      ],
      "metadata": {
        "colab": {
          "base_uri": "https://localhost:8080/"
        },
        "id": "WljCa8d66Fh0",
        "outputId": "bd3e6d76-acda-44f4-a2b9-99fbee3ab50d"
      },
      "execution_count": null,
      "outputs": [
        {
          "output_type": "execute_result",
          "data": {
            "text/plain": [
              "60"
            ]
          },
          "metadata": {},
          "execution_count": 45
        }
      ]
    },
    {
      "cell_type": "code",
      "source": [
        "a = 10;\n",
        "b = 20;\n",
        "sys.getsizeof(a)\n"
      ],
      "metadata": {
        "colab": {
          "base_uri": "https://localhost:8080/"
        },
        "id": "Pdfpx2T36NHd",
        "outputId": "db1f85a7-f041-44d9-d8f8-7a145f37a8b5"
      },
      "execution_count": null,
      "outputs": [
        {
          "output_type": "execute_result",
          "data": {
            "text/plain": [
              "28"
            ]
          },
          "metadata": {},
          "execution_count": 46
        }
      ]
    },
    {
      "cell_type": "code",
      "source": [
        "sys.getsizeof(b)"
      ],
      "metadata": {
        "colab": {
          "base_uri": "https://localhost:8080/"
        },
        "id": "06RCQlWf6W07",
        "outputId": "b4e2e103-6f5a-4515-9a00-0b0689b36caa"
      },
      "execution_count": null,
      "outputs": [
        {
          "output_type": "execute_result",
          "data": {
            "text/plain": [
              "28"
            ]
          },
          "metadata": {},
          "execution_count": 47
        }
      ]
    },
    {
      "cell_type": "code",
      "source": [
        "x = 100\n",
        "y = 100\n",
        "id(x)\n"
      ],
      "metadata": {
        "colab": {
          "base_uri": "https://localhost:8080/"
        },
        "id": "5XNqOtH16cfj",
        "outputId": "5459aab6-42b7-44be-ec50-616e38757e9f"
      },
      "execution_count": null,
      "outputs": [
        {
          "output_type": "execute_result",
          "data": {
            "text/plain": [
              "11530784"
            ]
          },
          "metadata": {},
          "execution_count": 36
        }
      ]
    },
    {
      "cell_type": "code",
      "source": [
        "id(y)"
      ],
      "metadata": {
        "colab": {
          "base_uri": "https://localhost:8080/"
        },
        "id": "x9sH1o968Uwl",
        "outputId": "d5e3935a-8f60-4f5f-851a-2f6791203157"
      },
      "execution_count": null,
      "outputs": [
        {
          "output_type": "execute_result",
          "data": {
            "text/plain": [
              "11530784"
            ]
          },
          "metadata": {},
          "execution_count": 48
        }
      ]
    },
    {
      "cell_type": "code",
      "source": [
        "p = 10001   #Highest 4 digit number it will return same location\n",
        "q = 10001\n",
        "id(p)"
      ],
      "metadata": {
        "colab": {
          "base_uri": "https://localhost:8080/"
        },
        "id": "ND4e37kC8fjs",
        "outputId": "1fd097cd-4353-4605-bbf2-d668412b67b7"
      },
      "execution_count": null,
      "outputs": [
        {
          "output_type": "execute_result",
          "data": {
            "text/plain": [
              "140664147304816"
            ]
          },
          "metadata": {},
          "execution_count": 49
        }
      ]
    },
    {
      "cell_type": "code",
      "source": [
        "id(q)"
      ],
      "metadata": {
        "colab": {
          "base_uri": "https://localhost:8080/"
        },
        "id": "DOEexs_B8m8h",
        "outputId": "5924149b-6269-4b7b-afa1-7836ff5e1ae6"
      },
      "execution_count": null,
      "outputs": [
        {
          "output_type": "execute_result",
          "data": {
            "text/plain": [
              "140664147305488"
            ]
          },
          "metadata": {},
          "execution_count": 50
        }
      ]
    },
    {
      "cell_type": "code",
      "source": [
        "name = 'jasim'\n",
        "print(name)\n",
        "x = 'jasim'\n",
        "print(x)"
      ],
      "metadata": {
        "colab": {
          "base_uri": "https://localhost:8080/"
        },
        "id": "pFeKOeJV8o4k",
        "outputId": "4753ce0f-fc08-4cb8-c4b4-f8b111f0115e"
      },
      "execution_count": null,
      "outputs": [
        {
          "output_type": "stream",
          "name": "stdout",
          "text": [
            "jasim\n",
            "jasim\n"
          ]
        }
      ]
    },
    {
      "cell_type": "code",
      "source": [
        "# 9nam = 'jasim'\n",
        "# print(9nam)"
      ],
      "metadata": {
        "id": "pE0R6JnE9PtU"
      },
      "execution_count": null,
      "outputs": []
    },
    {
      "cell_type": "code",
      "source": [
        "nam_ = 'rahim'\n",
        "print(nam_)"
      ],
      "metadata": {
        "colab": {
          "base_uri": "https://localhost:8080/"
        },
        "id": "qcme4jvk97Hr",
        "outputId": "10c0f3b6-05e5-4dec-a6e3-3644a71c6558"
      },
      "execution_count": null,
      "outputs": [
        {
          "output_type": "stream",
          "name": "stdout",
          "text": [
            "rahim\n"
          ]
        }
      ]
    },
    {
      "cell_type": "code",
      "source": [
        "# var-2 = 'uddim'\n",
        "# print(var-2)"
      ],
      "metadata": {
        "id": "uLnSuMwO-Biz"
      },
      "execution_count": null,
      "outputs": []
    },
    {
      "cell_type": "code",
      "source": [
        "x,y,z = 100,200,0 #multiple variable declaration \n"
      ],
      "metadata": {
        "id": "W5Q8N-V--KZk"
      },
      "execution_count": null,
      "outputs": []
    },
    {
      "cell_type": "code",
      "source": [
        "x\n"
      ],
      "metadata": {
        "colab": {
          "base_uri": "https://localhost:8080/"
        },
        "id": "t9Y0aEm-Aamk",
        "outputId": "a981b615-2bd3-4df9-a6f4-e7235efd2015"
      },
      "execution_count": null,
      "outputs": [
        {
          "output_type": "execute_result",
          "data": {
            "text/plain": [
              "100"
            ]
          },
          "metadata": {},
          "execution_count": 23
        }
      ]
    },
    {
      "cell_type": "code",
      "source": [
        "y"
      ],
      "metadata": {
        "colab": {
          "base_uri": "https://localhost:8080/"
        },
        "id": "v9kTLFUhAbr7",
        "outputId": "359526f1-4249-4271-c5da-8b9d4811a511"
      },
      "execution_count": null,
      "outputs": [
        {
          "output_type": "execute_result",
          "data": {
            "text/plain": [
              "200"
            ]
          },
          "metadata": {},
          "execution_count": 24
        }
      ]
    },
    {
      "cell_type": "code",
      "source": [
        "z"
      ],
      "metadata": {
        "colab": {
          "base_uri": "https://localhost:8080/"
        },
        "id": "_z5TEtXlAcnc",
        "outputId": "f54adbea-2d91-4126-d4b0-5c757857d8ad"
      },
      "execution_count": null,
      "outputs": [
        {
          "output_type": "execute_result",
          "data": {
            "text/plain": [
              "0"
            ]
          },
          "metadata": {},
          "execution_count": 25
        }
      ]
    },
    {
      "cell_type": "code",
      "source": [
        "firstName = 'jasim'  #camel case"
      ],
      "metadata": {
        "id": "j05mDWMeAd4z"
      },
      "execution_count": null,
      "outputs": []
    },
    {
      "cell_type": "code",
      "source": [
        "firstName\n"
      ],
      "metadata": {
        "colab": {
          "base_uri": "https://localhost:8080/",
          "height": 36
        },
        "id": "PdpqTqWqAo2y",
        "outputId": "0ecec555-086f-4c3c-f665-67bb644b5093"
      },
      "execution_count": null,
      "outputs": [
        {
          "output_type": "execute_result",
          "data": {
            "text/plain": [
              "'jasim'"
            ],
            "application/vnd.google.colaboratory.intrinsic+json": {
              "type": "string"
            }
          },
          "metadata": {},
          "execution_count": 27
        }
      ]
    },
    {
      "cell_type": "code",
      "source": [
        "FirstName = \"Rahim\" #pascel case"
      ],
      "metadata": {
        "id": "18Qe0JkzAqN0"
      },
      "execution_count": null,
      "outputs": []
    },
    {
      "cell_type": "code",
      "source": [
        "FirstName"
      ],
      "metadata": {
        "colab": {
          "base_uri": "https://localhost:8080/",
          "height": 36
        },
        "id": "UmxQs8DwAv-z",
        "outputId": "bfd21884-0053-43b8-eff8-b938959556c4"
      },
      "execution_count": null,
      "outputs": [
        {
          "output_type": "execute_result",
          "data": {
            "text/plain": [
              "'Rahim'"
            ],
            "application/vnd.google.colaboratory.intrinsic+json": {
              "type": "string"
            }
          },
          "metadata": {},
          "execution_count": 29
        }
      ]
    },
    {
      "cell_type": "code",
      "source": [
        "first_name = 'jasim'  #snake case"
      ],
      "metadata": {
        "id": "tLCHoRj4Ax2G"
      },
      "execution_count": null,
      "outputs": []
    },
    {
      "cell_type": "code",
      "source": [
        "first_name"
      ],
      "metadata": {
        "colab": {
          "base_uri": "https://localhost:8080/",
          "height": 36
        },
        "id": "_HsDz7kABUKL",
        "outputId": "9fd634cd-9edc-4372-a90f-7d813d9f0b36"
      },
      "execution_count": null,
      "outputs": [
        {
          "output_type": "execute_result",
          "data": {
            "text/plain": [
              "'jasim'"
            ],
            "application/vnd.google.colaboratory.intrinsic+json": {
              "type": "string"
            }
          },
          "metadata": {},
          "execution_count": 31
        }
      ]
    },
    {
      "cell_type": "markdown",
      "source": [
        "Local vs Global "
      ],
      "metadata": {
        "id": "N6AvPRiJDkFm"
      }
    },
    {
      "cell_type": "code",
      "source": [
        "x = 20\n",
        "def func1():\n",
        "  x = 10\n",
        "  print('My num is ',x)\n",
        "func1()\n",
        "x"
      ],
      "metadata": {
        "colab": {
          "base_uri": "https://localhost:8080/"
        },
        "id": "RSBSOwJvBW8E",
        "outputId": "4cae33a0-3705-459a-c06b-f2584320ff4a"
      },
      "execution_count": null,
      "outputs": [
        {
          "output_type": "stream",
          "name": "stdout",
          "text": [
            "My num is  10\n"
          ]
        },
        {
          "output_type": "execute_result",
          "data": {
            "text/plain": [
              "20"
            ]
          },
          "metadata": {},
          "execution_count": 32
        }
      ]
    },
    {
      "cell_type": "code",
      "source": [
        "x = 20\n",
        "print(x)\n",
        "def func1():\n",
        "  global x \n",
        "  x = 10\n",
        "  print('My Num is',x)\n",
        "func1()\n",
        "x"
      ],
      "metadata": {
        "colab": {
          "base_uri": "https://localhost:8080/"
        },
        "id": "ddFw5CX0ZyKF",
        "outputId": "8a70dbbb-e58c-4d5e-b9ff-844612794f25"
      },
      "execution_count": null,
      "outputs": [
        {
          "output_type": "stream",
          "name": "stdout",
          "text": [
            "20\n",
            "My Num is 10\n"
          ]
        },
        {
          "output_type": "execute_result",
          "data": {
            "text/plain": [
              "10"
            ]
          },
          "metadata": {},
          "execution_count": 8
        }
      ]
    },
    {
      "cell_type": "code",
      "source": [
        "x = 20\n",
        "def func1():\n",
        "  global x\n",
        "  x = 10\n",
        "  print('My num is ',x)\n",
        "func1()\n",
        "x\n",
        "\n",
        "def name():\n",
        "  name = 'md jasim uddim'\n",
        "  print(name)\n",
        "name()"
      ],
      "metadata": {
        "colab": {
          "base_uri": "https://localhost:8080/"
        },
        "id": "9jQF2FmxD4hM",
        "outputId": "d0504aab-dcf9-47dd-945e-42addd2cb24d"
      },
      "execution_count": null,
      "outputs": [
        {
          "output_type": "stream",
          "name": "stdout",
          "text": [
            "My num is  10\n",
            "md jasim uddim\n"
          ]
        }
      ]
    },
    {
      "cell_type": "code",
      "source": [
        "y = 1000\n",
        "def function1():\n",
        "  y = 100\n",
        "  print(y)\n",
        "function1()\n",
        "y"
      ],
      "metadata": {
        "colab": {
          "base_uri": "https://localhost:8080/"
        },
        "id": "y3Y8PHc7Enwz",
        "outputId": "2f666509-c56f-42cc-cf8e-0f5c214ef5e9"
      },
      "execution_count": null,
      "outputs": [
        {
          "output_type": "stream",
          "name": "stdout",
          "text": [
            "100\n"
          ]
        },
        {
          "output_type": "execute_result",
          "data": {
            "text/plain": [
              "1000"
            ]
          },
          "metadata": {},
          "execution_count": 34
        }
      ]
    },
    {
      "cell_type": "markdown",
      "source": [
        "## INPUT Function"
      ],
      "metadata": {
        "id": "NaL62StGTFdy"
      }
    },
    {
      "cell_type": "code",
      "source": [
        "data = 'Data science fun'"
      ],
      "metadata": {
        "id": "MEi8gYdtE_Rj"
      },
      "execution_count": null,
      "outputs": []
    },
    {
      "cell_type": "markdown",
      "source": [
        "Tutorial-*03*"
      ],
      "metadata": {
        "id": "uC2AexdeYqxZ"
      }
    },
    {
      "cell_type": "code",
      "source": [
        "data"
      ],
      "metadata": {
        "colab": {
          "base_uri": "https://localhost:8080/",
          "height": 36
        },
        "id": "srP6c02eTRe5",
        "outputId": "0ba25110-b627-4c6d-d048-73face84950f"
      },
      "execution_count": null,
      "outputs": [
        {
          "output_type": "execute_result",
          "data": {
            "text/plain": [
              "'Data science fun'"
            ],
            "application/vnd.google.colaboratory.intrinsic+json": {
              "type": "string"
            }
          },
          "metadata": {},
          "execution_count": 26
        }
      ]
    },
    {
      "cell_type": "code",
      "source": [
        "type(data)"
      ],
      "metadata": {
        "colab": {
          "base_uri": "https://localhost:8080/"
        },
        "id": "r4hOqzQSTSYz",
        "outputId": "b1d37f98-6dcb-420d-ee36-207b8119a503"
      },
      "execution_count": null,
      "outputs": [
        {
          "output_type": "execute_result",
          "data": {
            "text/plain": [
              "str"
            ]
          },
          "metadata": {},
          "execution_count": 27
        }
      ]
    },
    {
      "cell_type": "code",
      "source": [
        "data = input()"
      ],
      "metadata": {
        "colab": {
          "base_uri": "https://localhost:8080/"
        },
        "id": "FPB1CMjLT91j",
        "outputId": "f5fb941e-ee4a-4da9-e9d2-096b22563306"
      },
      "execution_count": null,
      "outputs": [
        {
          "name": "stdout",
          "output_type": "stream",
          "text": [
            "\"jasim\"\n"
          ]
        }
      ]
    },
    {
      "cell_type": "code",
      "source": [
        "data"
      ],
      "metadata": {
        "colab": {
          "base_uri": "https://localhost:8080/",
          "height": 36
        },
        "id": "S2tgzIv4Udob",
        "outputId": "2f382aef-58ce-47f0-9577-2513799135e7"
      },
      "execution_count": null,
      "outputs": [
        {
          "output_type": "execute_result",
          "data": {
            "text/plain": [
              "'\"jasim\"'"
            ],
            "application/vnd.google.colaboratory.intrinsic+json": {
              "type": "string"
            }
          },
          "metadata": {},
          "execution_count": 29
        }
      ]
    },
    {
      "cell_type": "code",
      "source": [
        "name = input()"
      ],
      "metadata": {
        "colab": {
          "base_uri": "https://localhost:8080/"
        },
        "id": "3rw_Es51Un77",
        "outputId": "9fe09f9e-7894-4436-d27c-ae01b26b060d"
      },
      "execution_count": null,
      "outputs": [
        {
          "name": "stdout",
          "output_type": "stream",
          "text": [
            "\"delowar\"\n"
          ]
        }
      ]
    },
    {
      "cell_type": "code",
      "source": [
        "name"
      ],
      "metadata": {
        "colab": {
          "base_uri": "https://localhost:8080/",
          "height": 36
        },
        "id": "5KKfBroAUq0r",
        "outputId": "93320918-6a67-42cf-954b-a3b54a3b1e48"
      },
      "execution_count": null,
      "outputs": [
        {
          "output_type": "execute_result",
          "data": {
            "text/plain": [
              "'\"delowar\"'"
            ],
            "application/vnd.google.colaboratory.intrinsic+json": {
              "type": "string"
            }
          },
          "metadata": {},
          "execution_count": 31
        }
      ]
    },
    {
      "cell_type": "code",
      "source": [
        "type(name)"
      ],
      "metadata": {
        "colab": {
          "base_uri": "https://localhost:8080/"
        },
        "id": "1jGo3b0SUuca",
        "outputId": "e0940d8c-5a45-4e7d-d0dc-60940d28b13a"
      },
      "execution_count": null,
      "outputs": [
        {
          "output_type": "execute_result",
          "data": {
            "text/plain": [
              "str"
            ]
          },
          "metadata": {},
          "execution_count": 32
        }
      ]
    },
    {
      "cell_type": "code",
      "source": [
        "x = input()\n",
        "y = input()"
      ],
      "metadata": {
        "colab": {
          "base_uri": "https://localhost:8080/"
        },
        "id": "B7ydGTlNVB-a",
        "outputId": "c7dde449-bad1-42b9-cf8c-bd3b5b9b393f"
      },
      "execution_count": null,
      "outputs": [
        {
          "name": "stdout",
          "output_type": "stream",
          "text": [
            "2\n",
            "3\n"
          ]
        }
      ]
    },
    {
      "cell_type": "code",
      "source": [
        "x+y"
      ],
      "metadata": {
        "colab": {
          "base_uri": "https://localhost:8080/",
          "height": 36
        },
        "id": "xYC8cKWIWd8D",
        "outputId": "b8a7b8c2-69be-442f-d814-d9838f89d24e"
      },
      "execution_count": null,
      "outputs": [
        {
          "output_type": "execute_result",
          "data": {
            "text/plain": [
              "'23'"
            ],
            "application/vnd.google.colaboratory.intrinsic+json": {
              "type": "string"
            }
          },
          "metadata": {},
          "execution_count": 34
        }
      ]
    },
    {
      "cell_type": "code",
      "source": [
        "x = int(x)\n",
        "y = int(y)"
      ],
      "metadata": {
        "id": "XsBEXJVkWiT6"
      },
      "execution_count": null,
      "outputs": []
    },
    {
      "cell_type": "code",
      "source": [
        "10+20"
      ],
      "metadata": {
        "colab": {
          "base_uri": "https://localhost:8080/"
        },
        "id": "rH1fSay-Wpbi",
        "outputId": "c7b1d16b-a172-4be0-c44a-cc89434220f4"
      },
      "execution_count": null,
      "outputs": [
        {
          "output_type": "execute_result",
          "data": {
            "text/plain": [
              "30"
            ]
          },
          "metadata": {},
          "execution_count": 36
        }
      ]
    },
    {
      "cell_type": "code",
      "source": [
        "x = int(input('Enter the first Number:'))   #only for integer input value\n",
        "y = int(input('Enter the second Number:'))"
      ],
      "metadata": {
        "colab": {
          "base_uri": "https://localhost:8080/"
        },
        "id": "Lvwgc6CRWq56",
        "outputId": "2a446fdb-2355-46d8-d585-73f21d4aecad"
      },
      "execution_count": null,
      "outputs": [
        {
          "name": "stdout",
          "output_type": "stream",
          "text": [
            "Enter the first Number:3\n",
            "Enter the second Number:3\n"
          ]
        }
      ]
    },
    {
      "cell_type": "code",
      "source": [
        "x+y"
      ],
      "metadata": {
        "colab": {
          "base_uri": "https://localhost:8080/"
        },
        "id": "YIF5C5wtW6Qy",
        "outputId": "100ed18a-630d-4339-b552-ee4c3b888513"
      },
      "execution_count": null,
      "outputs": [
        {
          "output_type": "execute_result",
          "data": {
            "text/plain": [
              "6"
            ]
          },
          "metadata": {},
          "execution_count": 38
        }
      ]
    },
    {
      "cell_type": "code",
      "source": [
        "x = float(input(\"Enter the first Number:\")) #it will support float with integer value for using float\n",
        "y = float(input(\"Enter the second Number:\"))"
      ],
      "metadata": {
        "colab": {
          "base_uri": "https://localhost:8080/"
        },
        "id": "ko8FxySJXAdj",
        "outputId": "c1eb43e7-2539-4c67-8c12-ad1248983ef8"
      },
      "execution_count": null,
      "outputs": [
        {
          "name": "stdout",
          "output_type": "stream",
          "text": [
            "Enter the first Number:2\n",
            "Enter the second Number:4\n"
          ]
        }
      ]
    },
    {
      "cell_type": "code",
      "source": [
        "x+y"
      ],
      "metadata": {
        "colab": {
          "base_uri": "https://localhost:8080/"
        },
        "id": "uvsr_Vy1XgMq",
        "outputId": "2ef8d87c-be1a-4688-a82a-adfa5d541e8e"
      },
      "execution_count": null,
      "outputs": [
        {
          "output_type": "execute_result",
          "data": {
            "text/plain": [
              "6.0"
            ]
          },
          "metadata": {},
          "execution_count": 40
        }
      ]
    },
    {
      "cell_type": "code",
      "source": [
        "schoolName = input()"
      ],
      "metadata": {
        "colab": {
          "base_uri": "https://localhost:8080/"
        },
        "id": "3v7CgbhIXnIa",
        "outputId": "5a69f8c0-816a-4d1f-88d5-51146f2b6687"
      },
      "execution_count": null,
      "outputs": [
        {
          "name": "stdout",
          "output_type": "stream",
          "text": [
            "'kalinagar high school'\n"
          ]
        }
      ]
    },
    {
      "cell_type": "code",
      "source": [
        "x = int(input('Enter the first number'))\n",
        "type(x)"
      ],
      "metadata": {
        "colab": {
          "base_uri": "https://localhost:8080/"
        },
        "id": "uuAonRg0dxap",
        "outputId": "639dd021-96ee-4aca-90d2-2e23eb8ab737"
      },
      "execution_count": null,
      "outputs": [
        {
          "name": "stdout",
          "output_type": "stream",
          "text": [
            "Enter the first number10\n"
          ]
        },
        {
          "output_type": "execute_result",
          "data": {
            "text/plain": [
              "int"
            ]
          },
          "metadata": {},
          "execution_count": 17
        }
      ]
    },
    {
      "cell_type": "markdown",
      "source": [
        "String Methods"
      ],
      "metadata": {
        "id": "LkwKPYQBY2-m"
      }
    },
    {
      "cell_type": "code",
      "source": [
        "data = 'my father name is Md Emarul Haque'\n",
        "#length of the data string\n",
        "length = len(data)\n",
        "print(length)"
      ],
      "metadata": {
        "colab": {
          "base_uri": "https://localhost:8080/"
        },
        "id": "LIrkUz2UYJn6",
        "outputId": "6ead716c-b963-4bfb-bcd5-de4aff082e44"
      },
      "execution_count": null,
      "outputs": [
        {
          "output_type": "stream",
          "name": "stdout",
          "text": [
            "33\n"
          ]
        }
      ]
    },
    {
      "cell_type": "code",
      "source": [
        "import sys\n",
        "sys.getsizeof(data)"
      ],
      "metadata": {
        "id": "B5bSTccPZAMS",
        "colab": {
          "base_uri": "https://localhost:8080/"
        },
        "outputId": "74f080dd-94cf-40c8-a61e-7fff0b075b8b"
      },
      "execution_count": null,
      "outputs": [
        {
          "output_type": "execute_result",
          "data": {
            "text/plain": [
              "82"
            ]
          },
          "metadata": {},
          "execution_count": 43
        }
      ]
    },
    {
      "cell_type": "code",
      "source": [
        "data.find('my') #find value from string"
      ],
      "metadata": {
        "id": "D1QI7bMZaRj6",
        "colab": {
          "base_uri": "https://localhost:8080/"
        },
        "outputId": "8e5a1f74-fc34-4d94-c46a-4a343f6300d1"
      },
      "execution_count": null,
      "outputs": [
        {
          "output_type": "execute_result",
          "data": {
            "text/plain": [
              "0"
            ]
          },
          "metadata": {},
          "execution_count": 44
        }
      ]
    },
    {
      "cell_type": "code",
      "source": [
        "data.find('q')"
      ],
      "metadata": {
        "colab": {
          "base_uri": "https://localhost:8080/"
        },
        "id": "P091VyjvELtE",
        "outputId": "c9308358-15a0-4dd1-dcf4-a5310fc1e8bd"
      },
      "execution_count": null,
      "outputs": [
        {
          "output_type": "execute_result",
          "data": {
            "text/plain": [
              "30"
            ]
          },
          "metadata": {},
          "execution_count": 45
        }
      ]
    },
    {
      "cell_type": "code",
      "source": [
        "data.find('f',10,28)  #return -1 if it does not match"
      ],
      "metadata": {
        "colab": {
          "base_uri": "https://localhost:8080/"
        },
        "id": "9ZQNUqr9EP_T",
        "outputId": "3477a084-2520-41f7-e8eb-d084ecd11a19"
      },
      "execution_count": null,
      "outputs": [
        {
          "output_type": "execute_result",
          "data": {
            "text/plain": [
              "-1"
            ]
          },
          "metadata": {},
          "execution_count": 46
        }
      ]
    },
    {
      "cell_type": "code",
      "source": [
        "# data.index('Bangla')  #return error if it does not match"
      ],
      "metadata": {
        "id": "tDxG03CpHE7d"
      },
      "execution_count": null,
      "outputs": []
    },
    {
      "cell_type": "code",
      "source": [
        "# data.index('of')"
      ],
      "metadata": {
        "id": "C2vVv7X6HU-z"
      },
      "execution_count": null,
      "outputs": []
    },
    {
      "cell_type": "code",
      "source": [
        "#convert string to lowercase\n",
        "data.lower()"
      ],
      "metadata": {
        "colab": {
          "base_uri": "https://localhost:8080/",
          "height": 36
        },
        "id": "lm369-2zH5Nr",
        "outputId": "fb954ca1-2108-4f47-efbd-86e003fd3d64"
      },
      "execution_count": null,
      "outputs": [
        {
          "output_type": "execute_result",
          "data": {
            "text/plain": [
              "'my father name is md emarul haque'"
            ],
            "application/vnd.google.colaboratory.intrinsic+json": {
              "type": "string"
            }
          },
          "metadata": {},
          "execution_count": 49
        }
      ]
    },
    {
      "cell_type": "code",
      "source": [
        "data"
      ],
      "metadata": {
        "colab": {
          "base_uri": "https://localhost:8080/",
          "height": 36
        },
        "id": "yuokSUTUIUrs",
        "outputId": "1cb9d12e-226c-4b0d-fe21-bef59f6540db"
      },
      "execution_count": null,
      "outputs": [
        {
          "output_type": "execute_result",
          "data": {
            "text/plain": [
              "'my father name is Md Emarul Haque'"
            ],
            "application/vnd.google.colaboratory.intrinsic+json": {
              "type": "string"
            }
          },
          "metadata": {},
          "execution_count": 50
        }
      ]
    },
    {
      "cell_type": "code",
      "source": [
        "data.upper()"
      ],
      "metadata": {
        "colab": {
          "base_uri": "https://localhost:8080/",
          "height": 36
        },
        "id": "mrjI9pXrIXPb",
        "outputId": "7911db2f-4ebf-425c-8728-6430784adac0"
      },
      "execution_count": null,
      "outputs": [
        {
          "output_type": "execute_result",
          "data": {
            "text/plain": [
              "'MY FATHER NAME IS MD EMARUL HAQUE'"
            ],
            "application/vnd.google.colaboratory.intrinsic+json": {
              "type": "string"
            }
          },
          "metadata": {},
          "execution_count": 51
        }
      ]
    },
    {
      "cell_type": "code",
      "source": [
        "data.casefold()"
      ],
      "metadata": {
        "colab": {
          "base_uri": "https://localhost:8080/",
          "height": 36
        },
        "id": "UukUlpNNInQj",
        "outputId": "5aad85c2-1ea4-4b56-8fd4-daeadd3e5d95"
      },
      "execution_count": null,
      "outputs": [
        {
          "output_type": "execute_result",
          "data": {
            "text/plain": [
              "'my father name is md emarul haque'"
            ],
            "application/vnd.google.colaboratory.intrinsic+json": {
              "type": "string"
            }
          },
          "metadata": {},
          "execution_count": 52
        }
      ]
    },
    {
      "cell_type": "code",
      "source": [
        "data.capitalize()"
      ],
      "metadata": {
        "colab": {
          "base_uri": "https://localhost:8080/",
          "height": 36
        },
        "id": "pDdiYnGrJC3b",
        "outputId": "5d3fe5cc-d8b7-4e00-c20e-4fa3d2305f7a"
      },
      "execution_count": null,
      "outputs": [
        {
          "output_type": "execute_result",
          "data": {
            "text/plain": [
              "'My father name is md emarul haque'"
            ],
            "application/vnd.google.colaboratory.intrinsic+json": {
              "type": "string"
            }
          },
          "metadata": {},
          "execution_count": 53
        }
      ]
    },
    {
      "cell_type": "code",
      "source": [
        "data.swapcase()"
      ],
      "metadata": {
        "colab": {
          "base_uri": "https://localhost:8080/",
          "height": 36
        },
        "id": "XhWW-pqTJIJ6",
        "outputId": "badda5d1-86d8-4621-8ec0-04179ca20d08"
      },
      "execution_count": null,
      "outputs": [
        {
          "output_type": "execute_result",
          "data": {
            "text/plain": [
              "'MY FATHER NAME IS mD eMARUL hAQUE'"
            ],
            "application/vnd.google.colaboratory.intrinsic+json": {
              "type": "string"
            }
          },
          "metadata": {},
          "execution_count": 54
        }
      ]
    },
    {
      "cell_type": "code",
      "source": [
        "data.title()"
      ],
      "metadata": {
        "colab": {
          "base_uri": "https://localhost:8080/",
          "height": 36
        },
        "id": "bt6ysuklJpmD",
        "outputId": "5c91bfce-ab42-419e-ed7c-e18bd2ef37d0"
      },
      "execution_count": null,
      "outputs": [
        {
          "output_type": "execute_result",
          "data": {
            "text/plain": [
              "'My Father Name Is Md Emarul Haque'"
            ],
            "application/vnd.google.colaboratory.intrinsic+json": {
              "type": "string"
            }
          },
          "metadata": {},
          "execution_count": 55
        }
      ]
    },
    {
      "cell_type": "code",
      "source": [
        "data.islower()"
      ],
      "metadata": {
        "colab": {
          "base_uri": "https://localhost:8080/"
        },
        "id": "zlt1V7ImJ8bC",
        "outputId": "fa7942c8-2378-4d4a-e38f-2de725a92686"
      },
      "execution_count": null,
      "outputs": [
        {
          "output_type": "execute_result",
          "data": {
            "text/plain": [
              "False"
            ]
          },
          "metadata": {},
          "execution_count": 56
        }
      ]
    },
    {
      "cell_type": "code",
      "source": [
        "data.isupper()"
      ],
      "metadata": {
        "colab": {
          "base_uri": "https://localhost:8080/"
        },
        "id": "ntyUxQD8KCWz",
        "outputId": "7ed27421-1525-4640-e0ed-aa6975100b53"
      },
      "execution_count": null,
      "outputs": [
        {
          "output_type": "execute_result",
          "data": {
            "text/plain": [
              "False"
            ]
          },
          "metadata": {},
          "execution_count": 57
        }
      ]
    },
    {
      "cell_type": "code",
      "source": [
        " data.isdigit()"
      ],
      "metadata": {
        "colab": {
          "base_uri": "https://localhost:8080/"
        },
        "id": "xp2IvqXjKEVC",
        "outputId": "b79c9a36-d431-4132-b6bc-c6ec6b940091"
      },
      "execution_count": null,
      "outputs": [
        {
          "output_type": "execute_result",
          "data": {
            "text/plain": [
              "False"
            ]
          },
          "metadata": {},
          "execution_count": 58
        }
      ]
    },
    {
      "cell_type": "code",
      "source": [
        "data.count('My')"
      ],
      "metadata": {
        "colab": {
          "base_uri": "https://localhost:8080/"
        },
        "id": "obbaMaebL-Bo",
        "outputId": "d51c37fa-dc43-480a-d2f5-e69f99cc758f"
      },
      "execution_count": null,
      "outputs": [
        {
          "output_type": "execute_result",
          "data": {
            "text/plain": [
              "0"
            ]
          },
          "metadata": {},
          "execution_count": 59
        }
      ]
    },
    {
      "cell_type": "code",
      "source": [
        "len(data)"
      ],
      "metadata": {
        "colab": {
          "base_uri": "https://localhost:8080/"
        },
        "id": "iNsTNMkSMXVT",
        "outputId": "1156df1b-509a-4587-a306-46311ba92b3f"
      },
      "execution_count": null,
      "outputs": [
        {
          "output_type": "execute_result",
          "data": {
            "text/plain": [
              "33"
            ]
          },
          "metadata": {},
          "execution_count": 60
        }
      ]
    },
    {
      "cell_type": "code",
      "source": [
        "data.encode()"
      ],
      "metadata": {
        "colab": {
          "base_uri": "https://localhost:8080/"
        },
        "id": "1T7suhz6McML",
        "outputId": "17e6424d-2bfc-48de-d80f-fcc40ed51a86"
      },
      "execution_count": null,
      "outputs": [
        {
          "output_type": "execute_result",
          "data": {
            "text/plain": [
              "b'my father name is Md Emarul Haque'"
            ]
          },
          "metadata": {},
          "execution_count": 61
        }
      ]
    },
    {
      "cell_type": "code",
      "source": [
        "type(data.encode())"
      ],
      "metadata": {
        "colab": {
          "base_uri": "https://localhost:8080/"
        },
        "id": "o8zMPlaPMgk6",
        "outputId": "e72637c0-28e6-4338-b7b0-d5f65febc7e9"
      },
      "execution_count": null,
      "outputs": [
        {
          "output_type": "execute_result",
          "data": {
            "text/plain": [
              "bytes"
            ]
          },
          "metadata": {},
          "execution_count": 62
        }
      ]
    },
    {
      "cell_type": "code",
      "source": [
        "data.split()"
      ],
      "metadata": {
        "colab": {
          "base_uri": "https://localhost:8080/"
        },
        "id": "sRa81NlzMjg6",
        "outputId": "bbaf29c6-a09c-4b0b-c20f-c19f0441ec72"
      },
      "execution_count": null,
      "outputs": [
        {
          "output_type": "execute_result",
          "data": {
            "text/plain": [
              "['my', 'father', 'name', 'is', 'Md', 'Emarul', 'Haque']"
            ]
          },
          "metadata": {},
          "execution_count": 63
        }
      ]
    },
    {
      "cell_type": "code",
      "source": [
        "data.split()[0]"
      ],
      "metadata": {
        "colab": {
          "base_uri": "https://localhost:8080/",
          "height": 36
        },
        "id": "IhpJYwUmMsmL",
        "outputId": "90cc68cc-e70c-4716-dcf5-bc6eaad1f133"
      },
      "execution_count": null,
      "outputs": [
        {
          "output_type": "execute_result",
          "data": {
            "text/plain": [
              "'my'"
            ],
            "application/vnd.google.colaboratory.intrinsic+json": {
              "type": "string"
            }
          },
          "metadata": {},
          "execution_count": 64
        }
      ]
    },
    {
      "cell_type": "code",
      "source": [
        "data.split()[1]"
      ],
      "metadata": {
        "colab": {
          "base_uri": "https://localhost:8080/",
          "height": 36
        },
        "id": "DlWWoBgeM1sq",
        "outputId": "de51201b-955f-414b-9347-eb14a1da2082"
      },
      "execution_count": null,
      "outputs": [
        {
          "output_type": "execute_result",
          "data": {
            "text/plain": [
              "'father'"
            ],
            "application/vnd.google.colaboratory.intrinsic+json": {
              "type": "string"
            }
          },
          "metadata": {},
          "execution_count": 65
        }
      ]
    },
    {
      "cell_type": "code",
      "source": [
        "# data\n",
        "\n",
        "str = 'My name is md jasim uddim'\n",
        "str.center(50)"
      ],
      "metadata": {
        "colab": {
          "base_uri": "https://localhost:8080/",
          "height": 36
        },
        "id": "OPER7GNMNDKK",
        "outputId": "f0aad179-ed1d-47c8-ac37-3014795d0e0b"
      },
      "execution_count": null,
      "outputs": [
        {
          "output_type": "execute_result",
          "data": {
            "text/plain": [
              "'            My name is md jasim uddim             '"
            ],
            "application/vnd.google.colaboratory.intrinsic+json": {
              "type": "string"
            }
          },
          "metadata": {},
          "execution_count": 23
        }
      ]
    },
    {
      "cell_type": "code",
      "source": [
        "data.center(50)"
      ],
      "metadata": {
        "colab": {
          "base_uri": "https://localhost:8080/",
          "height": 36
        },
        "id": "K3EDPgDjNNI7",
        "outputId": "c8ada0b7-522a-4c18-bd03-4a61dd7c7435"
      },
      "execution_count": null,
      "outputs": [
        {
          "output_type": "execute_result",
          "data": {
            "text/plain": [
              "'        my father name is Md Emarul Haque         '"
            ],
            "application/vnd.google.colaboratory.intrinsic+json": {
              "type": "string"
            }
          },
          "metadata": {},
          "execution_count": 67
        }
      ]
    },
    {
      "cell_type": "code",
      "source": [
        "data.replace('Md','Khan')"
      ],
      "metadata": {
        "colab": {
          "base_uri": "https://localhost:8080/",
          "height": 36
        },
        "id": "GJPnORnzNQyq",
        "outputId": "b349b610-b647-4bdd-f381-9feff90442bc"
      },
      "execution_count": null,
      "outputs": [
        {
          "output_type": "execute_result",
          "data": {
            "text/plain": [
              "'my father name is Khan Emarul Haque'"
            ],
            "application/vnd.google.colaboratory.intrinsic+json": {
              "type": "string"
            }
          },
          "metadata": {},
          "execution_count": 68
        }
      ]
    },
    {
      "cell_type": "code",
      "source": [
        "x = 50\n",
        "y = 4\n",
        "z = x*y\n",
        "print('The calculation is ',z,'taka')\n"
      ],
      "metadata": {
        "colab": {
          "base_uri": "https://localhost:8080/"
        },
        "id": "Xm1RuQnUNsur",
        "outputId": "91792099-20e5-40ba-f5e2-8c38bceb1e8b"
      },
      "execution_count": null,
      "outputs": [
        {
          "output_type": "stream",
          "name": "stdout",
          "text": [
            "The calculation is  200 taka\n"
          ]
        }
      ]
    },
    {
      "cell_type": "code",
      "source": [
        "x = 50\n",
        "y = 4\n",
        "z = x*y\n",
        "print('The calculation is {} taka'.format(z))"
      ],
      "metadata": {
        "colab": {
          "base_uri": "https://localhost:8080/"
        },
        "id": "8Xhihp_6N9Ay",
        "outputId": "c63b3b4e-ab59-45fb-e61d-93354813f455"
      },
      "execution_count": null,
      "outputs": [
        {
          "output_type": "stream",
          "name": "stdout",
          "text": [
            "The calculation is 200 taka\n"
          ]
        }
      ]
    },
    {
      "cell_type": "markdown",
      "source": [
        "## Tutorial-04 All About Data Type in Python"
      ],
      "metadata": {
        "id": "4tdMYQkOh5IU"
      }
    },
    {
      "cell_type": "code",
      "source": [
        "# Numeric Data type --int,float,complex\n",
        "# Boolean Data type --True,False\n",
        "# Sequence Data type --Arrays,list,tupple,string\n",
        "# Set data type -- frozenset, normal Set\n",
        "# Mapping data type -- Dictionary\n",
        "# Data Frame --object,bool,int64,float64\n"
      ],
      "metadata": {
        "id": "k4hVTU8qOEXS"
      },
      "execution_count": null,
      "outputs": []
    },
    {
      "cell_type": "code",
      "source": [
        "x = 10\n",
        "y = 10.3\n",
        "z = 10 + 2j\n"
      ],
      "metadata": {
        "id": "ePTPZ7WJkXk3"
      },
      "execution_count": null,
      "outputs": []
    },
    {
      "cell_type": "code",
      "source": [
        "x"
      ],
      "metadata": {
        "colab": {
          "base_uri": "https://localhost:8080/"
        },
        "id": "ch2UZxpttvbJ",
        "outputId": "84f6b29c-582b-4f42-c46e-23ee9fc96372"
      },
      "execution_count": null,
      "outputs": [
        {
          "output_type": "execute_result",
          "data": {
            "text/plain": [
              "10"
            ]
          },
          "metadata": {},
          "execution_count": 5
        }
      ]
    },
    {
      "cell_type": "code",
      "source": [
        "y"
      ],
      "metadata": {
        "colab": {
          "base_uri": "https://localhost:8080/"
        },
        "id": "gELYKI0utwGZ",
        "outputId": "1c66400b-24a7-4188-e106-f9b2217c8635"
      },
      "execution_count": null,
      "outputs": [
        {
          "output_type": "execute_result",
          "data": {
            "text/plain": [
              "10.3"
            ]
          },
          "metadata": {},
          "execution_count": 6
        }
      ]
    },
    {
      "cell_type": "code",
      "source": [
        "z"
      ],
      "metadata": {
        "colab": {
          "base_uri": "https://localhost:8080/"
        },
        "id": "35dPnnwgtw-J",
        "outputId": "494b34b5-d1ae-43b9-dcf0-a76d1ba5bf8a"
      },
      "execution_count": null,
      "outputs": [
        {
          "output_type": "execute_result",
          "data": {
            "text/plain": [
              "(10+2j)"
            ]
          },
          "metadata": {},
          "execution_count": 7
        }
      ]
    },
    {
      "cell_type": "code",
      "source": [
        "type(x)"
      ],
      "metadata": {
        "colab": {
          "base_uri": "https://localhost:8080/"
        },
        "id": "s9wXZFWXtxx5",
        "outputId": "a0a65c64-9942-419e-a03b-9a4cf90e2f35"
      },
      "execution_count": null,
      "outputs": [
        {
          "output_type": "execute_result",
          "data": {
            "text/plain": [
              "int"
            ]
          },
          "metadata": {},
          "execution_count": 8
        }
      ]
    },
    {
      "cell_type": "code",
      "source": [
        "type(y)"
      ],
      "metadata": {
        "colab": {
          "base_uri": "https://localhost:8080/"
        },
        "id": "_l-3N3T6t0wQ",
        "outputId": "8dc7d7af-ef1d-40f5-c720-bb00fad5020d"
      },
      "execution_count": null,
      "outputs": [
        {
          "output_type": "execute_result",
          "data": {
            "text/plain": [
              "float"
            ]
          },
          "metadata": {},
          "execution_count": 9
        }
      ]
    },
    {
      "cell_type": "code",
      "source": [
        "type(z)"
      ],
      "metadata": {
        "colab": {
          "base_uri": "https://localhost:8080/"
        },
        "id": "mQC-vE3Qt2ix",
        "outputId": "58c4b7b7-76e3-4537-8eed-408ecd488c2d"
      },
      "execution_count": null,
      "outputs": [
        {
          "output_type": "execute_result",
          "data": {
            "text/plain": [
              "complex"
            ]
          },
          "metadata": {},
          "execution_count": 10
        }
      ]
    },
    {
      "cell_type": "code",
      "source": [
        "isinstance(x,int)"
      ],
      "metadata": {
        "colab": {
          "base_uri": "https://localhost:8080/"
        },
        "id": "fRq7bD6lt38h",
        "outputId": "8a4b6df8-026b-4227-93be-bc0dcc537980"
      },
      "execution_count": null,
      "outputs": [
        {
          "output_type": "execute_result",
          "data": {
            "text/plain": [
              "True"
            ]
          },
          "metadata": {},
          "execution_count": 11
        }
      ]
    },
    {
      "cell_type": "code",
      "source": [
        "isinstance(z,complex)"
      ],
      "metadata": {
        "colab": {
          "base_uri": "https://localhost:8080/"
        },
        "id": "fMQ7SVHDurBA",
        "outputId": "5fdddfd0-e0d2-4fe9-ef23-bdaf9b806474"
      },
      "execution_count": null,
      "outputs": [
        {
          "output_type": "execute_result",
          "data": {
            "text/plain": [
              "True"
            ]
          },
          "metadata": {},
          "execution_count": 12
        }
      ]
    },
    {
      "cell_type": "markdown",
      "source": [
        "Type Casting \n"
      ],
      "metadata": {
        "id": "USmUE3eSu0Aj"
      }
    },
    {
      "cell_type": "code",
      "source": [
        "# int to float type casting \n",
        "n = float(x)\n",
        "n"
      ],
      "metadata": {
        "colab": {
          "base_uri": "https://localhost:8080/"
        },
        "id": "BQPs5ST-u1vc",
        "outputId": "39dd8793-0e15-4387-e92d-0563cde92ae5"
      },
      "execution_count": null,
      "outputs": [
        {
          "output_type": "execute_result",
          "data": {
            "text/plain": [
              "10.0"
            ]
          },
          "metadata": {},
          "execution_count": 13
        }
      ]
    },
    {
      "cell_type": "code",
      "source": [
        "type(n)"
      ],
      "metadata": {
        "colab": {
          "base_uri": "https://localhost:8080/"
        },
        "id": "ONc9XT_5vH5B",
        "outputId": "65c3b3fc-3ee9-443f-ed17-bdedcb73bd06"
      },
      "execution_count": null,
      "outputs": [
        {
          "output_type": "execute_result",
          "data": {
            "text/plain": [
              "float"
            ]
          },
          "metadata": {},
          "execution_count": 14
        }
      ]
    },
    {
      "cell_type": "code",
      "source": [
        "n = int(n)  #float to int casting"
      ],
      "metadata": {
        "id": "n9mHeJQbvLAw"
      },
      "execution_count": null,
      "outputs": []
    },
    {
      "cell_type": "code",
      "source": [
        "n"
      ],
      "metadata": {
        "colab": {
          "base_uri": "https://localhost:8080/"
        },
        "id": "ps20vBj4vbAa",
        "outputId": "2151e834-674c-49ea-fa57-20e252f9444f"
      },
      "execution_count": null,
      "outputs": [
        {
          "output_type": "execute_result",
          "data": {
            "text/plain": [
              "10"
            ]
          },
          "metadata": {},
          "execution_count": 16
        }
      ]
    },
    {
      "cell_type": "code",
      "source": [
        "type(n)"
      ],
      "metadata": {
        "colab": {
          "base_uri": "https://localhost:8080/"
        },
        "id": "iOyQfT-lvb16",
        "outputId": "ece75c3a-9fae-49b8-a939-158d72bed964"
      },
      "execution_count": null,
      "outputs": [
        {
          "output_type": "execute_result",
          "data": {
            "text/plain": [
              "int"
            ]
          },
          "metadata": {},
          "execution_count": 17
        }
      ]
    },
    {
      "cell_type": "code",
      "source": [
        "#we can convert float to int but it's not possible to convert int to float "
      ],
      "metadata": {
        "id": "BNBByI_Zvdm5"
      },
      "execution_count": null,
      "outputs": []
    },
    {
      "cell_type": "code",
      "source": [
        "n = complex(input(\"Enter the complex number \"))"
      ],
      "metadata": {
        "colab": {
          "base_uri": "https://localhost:8080/"
        },
        "id": "Ubx-664HcOqb",
        "outputId": "7deb906d-16f6-4442-d943-c802bbd17f13"
      },
      "execution_count": null,
      "outputs": [
        {
          "name": "stdout",
          "output_type": "stream",
          "text": [
            "Enter the complex number 12\n"
          ]
        }
      ]
    },
    {
      "cell_type": "code",
      "source": [
        "n"
      ],
      "metadata": {
        "colab": {
          "base_uri": "https://localhost:8080/"
        },
        "id": "tS5M1zg-cvJy",
        "outputId": "a269a261-417e-4c8d-999f-cf91f5eb731c"
      },
      "execution_count": null,
      "outputs": [
        {
          "output_type": "execute_result",
          "data": {
            "text/plain": [
              "(12+0j)"
            ]
          },
          "metadata": {},
          "execution_count": 25
        }
      ]
    },
    {
      "cell_type": "code",
      "source": [
        "type(n)"
      ],
      "metadata": {
        "colab": {
          "base_uri": "https://localhost:8080/"
        },
        "id": "bc8kdGY8cyUb",
        "outputId": "dd4c3acb-1095-480e-a179-3a41d4fad631"
      },
      "execution_count": null,
      "outputs": [
        {
          "output_type": "execute_result",
          "data": {
            "text/plain": [
              "complex"
            ]
          },
          "metadata": {},
          "execution_count": 26
        }
      ]
    },
    {
      "cell_type": "markdown",
      "source": [
        "**Boolean**"
      ],
      "metadata": {
        "id": "cV0r8ieydMhH"
      }
    },
    {
      "cell_type": "code",
      "source": [
        "x = True\n",
        "y = False"
      ],
      "metadata": {
        "id": "yoZVLHWDc217"
      },
      "execution_count": null,
      "outputs": []
    },
    {
      "cell_type": "code",
      "source": [
        "x"
      ],
      "metadata": {
        "colab": {
          "base_uri": "https://localhost:8080/"
        },
        "id": "OLgpjy-MdVvT",
        "outputId": "db740c51-6a76-4099-b606-98c3397ad7d3"
      },
      "execution_count": null,
      "outputs": [
        {
          "output_type": "execute_result",
          "data": {
            "text/plain": [
              "True"
            ]
          },
          "metadata": {},
          "execution_count": 157
        }
      ]
    },
    {
      "cell_type": "code",
      "source": [
        "y"
      ],
      "metadata": {
        "colab": {
          "base_uri": "https://localhost:8080/"
        },
        "id": "ipeM2P6OdWqU",
        "outputId": "24d47951-f516-449f-df65-912715bf2e6b"
      },
      "execution_count": null,
      "outputs": [
        {
          "output_type": "execute_result",
          "data": {
            "text/plain": [
              "False"
            ]
          },
          "metadata": {},
          "execution_count": 158
        }
      ]
    },
    {
      "cell_type": "markdown",
      "source": [
        "## Sequence Data Type"
      ],
      "metadata": {
        "id": "n_PaHxPmeYFQ"
      }
    },
    {
      "cell_type": "markdown",
      "source": [
        "List"
      ],
      "metadata": {
        "id": "Bsmf2dfres9a"
      }
    },
    {
      "cell_type": "code",
      "source": [
        "l = [1,2,3,4,'string',(1,2,3,4,5),[6,7,8,9],True,'data']\n",
        "l"
      ],
      "metadata": {
        "colab": {
          "base_uri": "https://localhost:8080/"
        },
        "id": "h-wF0zDcdXsz",
        "outputId": "c2ba4fe7-0e92-4c6d-fb16-913df9968f29"
      },
      "execution_count": null,
      "outputs": [
        {
          "output_type": "execute_result",
          "data": {
            "text/plain": [
              "[1, 2, 3, 4, 'string', (1, 2, 3, 4, 5), [6, 7, 8, 9], True, 'data']"
            ]
          },
          "metadata": {},
          "execution_count": 71
        }
      ]
    },
    {
      "cell_type": "code",
      "source": [
        "l[0]"
      ],
      "metadata": {
        "colab": {
          "base_uri": "https://localhost:8080/"
        },
        "id": "lBzTMVpoeTKj",
        "outputId": "59e1d6ef-0a35-40a1-a9ce-951963c41344"
      },
      "execution_count": null,
      "outputs": [
        {
          "output_type": "execute_result",
          "data": {
            "text/plain": [
              "1"
            ]
          },
          "metadata": {},
          "execution_count": 72
        }
      ]
    },
    {
      "cell_type": "code",
      "source": [
        "l[5][0]"
      ],
      "metadata": {
        "colab": {
          "base_uri": "https://localhost:8080/"
        },
        "id": "B04AptpgeV_L",
        "outputId": "7f08e7dc-99ce-4aca-b860-6d97cd1c33f7"
      },
      "execution_count": null,
      "outputs": [
        {
          "output_type": "execute_result",
          "data": {
            "text/plain": [
              "1"
            ]
          },
          "metadata": {},
          "execution_count": 73
        }
      ]
    },
    {
      "cell_type": "code",
      "source": [
        "type(l)"
      ],
      "metadata": {
        "colab": {
          "base_uri": "https://localhost:8080/"
        },
        "id": "L07DoqLnejXC",
        "outputId": "5d9bb2f8-fe71-4694-b169-fc7d420aa5bb"
      },
      "execution_count": null,
      "outputs": [
        {
          "output_type": "execute_result",
          "data": {
            "text/plain": [
              "list"
            ]
          },
          "metadata": {},
          "execution_count": 74
        }
      ]
    },
    {
      "cell_type": "code",
      "source": [
        "l[-1]"
      ],
      "metadata": {
        "colab": {
          "base_uri": "https://localhost:8080/",
          "height": 36
        },
        "id": "Uur_Is3rexo1",
        "outputId": "d4312c4e-88c9-4b57-a9bb-252140246154"
      },
      "execution_count": null,
      "outputs": [
        {
          "output_type": "execute_result",
          "data": {
            "text/plain": [
              "'data'"
            ],
            "application/vnd.google.colaboratory.intrinsic+json": {
              "type": "string"
            }
          },
          "metadata": {},
          "execution_count": 75
        }
      ]
    },
    {
      "cell_type": "code",
      "source": [
        "isinstance(l,list)"
      ],
      "metadata": {
        "colab": {
          "base_uri": "https://localhost:8080/"
        },
        "id": "xxTRhHyKe34D",
        "outputId": "9350dc8e-2260-45e6-9e9d-d57c7c16534b"
      },
      "execution_count": null,
      "outputs": [
        {
          "output_type": "execute_result",
          "data": {
            "text/plain": [
              "True"
            ]
          },
          "metadata": {},
          "execution_count": 76
        }
      ]
    },
    {
      "cell_type": "markdown",
      "source": [
        "Tupple"
      ],
      "metadata": {
        "id": "PUvTbFNKfV7I"
      }
    },
    {
      "cell_type": "code",
      "source": [
        "t = (1,2,3,'string')"
      ],
      "metadata": {
        "id": "kMVPJGGDe-bE"
      },
      "execution_count": null,
      "outputs": []
    },
    {
      "cell_type": "code",
      "source": [
        "t[0]"
      ],
      "metadata": {
        "colab": {
          "base_uri": "https://localhost:8080/"
        },
        "id": "zo5-LJzifbzz",
        "outputId": "1408043c-1d03-420a-b78f-d25591b94f37"
      },
      "execution_count": null,
      "outputs": [
        {
          "output_type": "execute_result",
          "data": {
            "text/plain": [
              "1"
            ]
          },
          "metadata": {},
          "execution_count": 78
        }
      ]
    },
    {
      "cell_type": "code",
      "source": [
        "type(t)"
      ],
      "metadata": {
        "colab": {
          "base_uri": "https://localhost:8080/"
        },
        "id": "BM57IHsUhJnL",
        "outputId": "23f63cc3-77b1-4c6f-95fe-0d84dd19c70d"
      },
      "execution_count": null,
      "outputs": [
        {
          "output_type": "execute_result",
          "data": {
            "text/plain": [
              "tuple"
            ]
          },
          "metadata": {},
          "execution_count": 79
        }
      ]
    },
    {
      "cell_type": "code",
      "source": [
        "l[0:4]"
      ],
      "metadata": {
        "colab": {
          "base_uri": "https://localhost:8080/"
        },
        "id": "LYYbQA9ChvU6",
        "outputId": "015db28f-f2ed-48e1-f8d0-2108e729a0a8"
      },
      "execution_count": null,
      "outputs": [
        {
          "output_type": "execute_result",
          "data": {
            "text/plain": [
              "[1, 2, 3, 4]"
            ]
          },
          "metadata": {},
          "execution_count": 80
        }
      ]
    },
    {
      "cell_type": "code",
      "source": [
        "t[0:4]"
      ],
      "metadata": {
        "colab": {
          "base_uri": "https://localhost:8080/"
        },
        "id": "SVsxDucJlZZr",
        "outputId": "a53c2dea-d579-4d8d-dd34-e7e415e81d45"
      },
      "execution_count": null,
      "outputs": [
        {
          "output_type": "execute_result",
          "data": {
            "text/plain": [
              "(1, 2, 3, 'string')"
            ]
          },
          "metadata": {},
          "execution_count": 81
        }
      ]
    },
    {
      "cell_type": "markdown",
      "source": [
        "Range"
      ],
      "metadata": {
        "id": "8IPmfInTljOC"
      }
    },
    {
      "cell_type": "code",
      "source": [
        "x = range(10)"
      ],
      "metadata": {
        "id": "pcCzow3OlcGT"
      },
      "execution_count": null,
      "outputs": []
    },
    {
      "cell_type": "code",
      "source": [
        "x"
      ],
      "metadata": {
        "colab": {
          "base_uri": "https://localhost:8080/"
        },
        "id": "3AFrvOeulnkq",
        "outputId": "cccc0c2e-db91-4f5f-dd50-f5642dd63d65"
      },
      "execution_count": null,
      "outputs": [
        {
          "output_type": "execute_result",
          "data": {
            "text/plain": [
              "range(0, 10)"
            ]
          },
          "metadata": {},
          "execution_count": 83
        }
      ]
    },
    {
      "cell_type": "code",
      "source": [
        "for i in x:\n",
        "  print(i)"
      ],
      "metadata": {
        "colab": {
          "base_uri": "https://localhost:8080/"
        },
        "id": "CNjt9faDlpAS",
        "outputId": "c840b50b-ce53-4681-e97c-fa2d43ea672c"
      },
      "execution_count": null,
      "outputs": [
        {
          "output_type": "stream",
          "name": "stdout",
          "text": [
            "0\n",
            "1\n",
            "2\n",
            "3\n",
            "4\n",
            "5\n",
            "6\n",
            "7\n",
            "8\n",
            "9\n"
          ]
        }
      ]
    },
    {
      "cell_type": "code",
      "source": [
        "y = range(0,100,2)\n",
        "for i in y:\n",
        "  print(i)"
      ],
      "metadata": {
        "colab": {
          "base_uri": "https://localhost:8080/"
        },
        "id": "eSOvuwaAls26",
        "outputId": "519e9d2b-5fc4-4fe7-b832-d47a445b7e02"
      },
      "execution_count": null,
      "outputs": [
        {
          "output_type": "stream",
          "name": "stdout",
          "text": [
            "0\n",
            "2\n",
            "4\n",
            "6\n",
            "8\n",
            "10\n",
            "12\n",
            "14\n",
            "16\n",
            "18\n",
            "20\n",
            "22\n",
            "24\n",
            "26\n",
            "28\n",
            "30\n",
            "32\n",
            "34\n",
            "36\n",
            "38\n",
            "40\n",
            "42\n",
            "44\n",
            "46\n",
            "48\n",
            "50\n",
            "52\n",
            "54\n",
            "56\n",
            "58\n",
            "60\n",
            "62\n",
            "64\n",
            "66\n",
            "68\n",
            "70\n",
            "72\n",
            "74\n",
            "76\n",
            "78\n",
            "80\n",
            "82\n",
            "84\n",
            "86\n",
            "88\n",
            "90\n",
            "92\n",
            "94\n",
            "96\n",
            "98\n"
          ]
        }
      ]
    },
    {
      "cell_type": "code",
      "source": [
        "z = range(10,1,-2)\n",
        "for i in z:\n",
        "  print(i)"
      ],
      "metadata": {
        "colab": {
          "base_uri": "https://localhost:8080/"
        },
        "id": "Idu7xS2vl4xq",
        "outputId": "dfdac37a-29bd-4662-c6d7-8ba8713c685e"
      },
      "execution_count": null,
      "outputs": [
        {
          "output_type": "stream",
          "name": "stdout",
          "text": [
            "10\n",
            "8\n",
            "6\n",
            "4\n",
            "2\n"
          ]
        }
      ]
    },
    {
      "cell_type": "markdown",
      "source": [
        "Array"
      ],
      "metadata": {
        "id": "JFMR9XiboCSq"
      }
    },
    {
      "cell_type": "code",
      "source": [
        "import array as ar\n",
        "a = ar.array('i',[1,2,3,4])"
      ],
      "metadata": {
        "id": "HMi01uJkmjSi"
      },
      "execution_count": null,
      "outputs": []
    },
    {
      "cell_type": "code",
      "source": [
        "a"
      ],
      "metadata": {
        "colab": {
          "base_uri": "https://localhost:8080/"
        },
        "id": "kwHfFScIoMla",
        "outputId": "a40ad686-acaa-480c-d01a-d1ab422f4dca"
      },
      "execution_count": null,
      "outputs": [
        {
          "output_type": "execute_result",
          "data": {
            "text/plain": [
              "array('i', [1, 2, 3, 4])"
            ]
          },
          "metadata": {},
          "execution_count": 88
        }
      ]
    },
    {
      "cell_type": "code",
      "source": [
        "x = ar.array('f',[2,3,4,5])"
      ],
      "metadata": {
        "id": "PFlIBubXoRt6"
      },
      "execution_count": null,
      "outputs": []
    },
    {
      "cell_type": "code",
      "source": [
        "x"
      ],
      "metadata": {
        "colab": {
          "base_uri": "https://localhost:8080/"
        },
        "id": "zL9HMVtdoWKi",
        "outputId": "ce001e3a-c1e6-4b56-8e96-3043ba602e6d"
      },
      "execution_count": null,
      "outputs": [
        {
          "output_type": "execute_result",
          "data": {
            "text/plain": [
              "array('f', [2.0, 3.0, 4.0, 5.0])"
            ]
          },
          "metadata": {},
          "execution_count": 90
        }
      ]
    },
    {
      "cell_type": "code",
      "source": [
        "y = ar.array('f',[2.5,3,4,6])"
      ],
      "metadata": {
        "id": "n2Lr__VyoXbC"
      },
      "execution_count": null,
      "outputs": []
    },
    {
      "cell_type": "code",
      "source": [
        "y"
      ],
      "metadata": {
        "colab": {
          "base_uri": "https://localhost:8080/"
        },
        "id": "Eqwq3l4kpJwi",
        "outputId": "ded1caa3-415a-4125-cd6c-763aa8e686d7"
      },
      "execution_count": null,
      "outputs": [
        {
          "output_type": "execute_result",
          "data": {
            "text/plain": [
              "array('f', [2.5, 3.0, 4.0, 6.0])"
            ]
          },
          "metadata": {},
          "execution_count": 92
        }
      ]
    },
    {
      "cell_type": "code",
      "source": [
        "import array as ap\n",
        "x = ap.array('i',[1,2,3,4,5])"
      ],
      "metadata": {
        "id": "UV0-BLakpSV5"
      },
      "execution_count": null,
      "outputs": []
    },
    {
      "cell_type": "code",
      "source": [
        "x"
      ],
      "metadata": {
        "colab": {
          "base_uri": "https://localhost:8080/"
        },
        "id": "EIgujjrZpgqb",
        "outputId": "385ce1ba-ec5e-4549-9b6d-9d00a8157376"
      },
      "execution_count": null,
      "outputs": [
        {
          "output_type": "execute_result",
          "data": {
            "text/plain": [
              "array('i', [1, 2, 3, 4, 5])"
            ]
          },
          "metadata": {},
          "execution_count": 29
        }
      ]
    },
    {
      "cell_type": "markdown",
      "source": [
        "String"
      ],
      "metadata": {
        "id": "fTJcLSHeqUuj"
      }
    },
    {
      "cell_type": "code",
      "source": [
        "x = 'data'\n",
        "type(x)"
      ],
      "metadata": {
        "colab": {
          "base_uri": "https://localhost:8080/"
        },
        "id": "Vy5njx80pLBS",
        "outputId": "c3f097e8-eced-419c-9f2c-644c63f8b23c"
      },
      "execution_count": null,
      "outputs": [
        {
          "output_type": "execute_result",
          "data": {
            "text/plain": [
              "str"
            ]
          },
          "metadata": {},
          "execution_count": 93
        }
      ]
    },
    {
      "cell_type": "code",
      "source": [
        "y = \"Data\""
      ],
      "metadata": {
        "id": "lqqwAKeAp1Gp"
      },
      "execution_count": null,
      "outputs": []
    },
    {
      "cell_type": "code",
      "source": [
        "type(y)"
      ],
      "metadata": {
        "colab": {
          "base_uri": "https://localhost:8080/"
        },
        "id": "L6oGNxp7p3qp",
        "outputId": "dabd28e4-83b3-4593-d410-1c4d9c883022"
      },
      "execution_count": null,
      "outputs": [
        {
          "output_type": "execute_result",
          "data": {
            "text/plain": [
              "str"
            ]
          },
          "metadata": {},
          "execution_count": 95
        }
      ]
    },
    {
      "cell_type": "code",
      "source": [
        "x ='''\n",
        "I love \n",
        "Cricket\n",
        "'''\n",
        "y = '''\n",
        "Bangladesh\n",
        "is\n",
        "a \n",
        "small \n",
        "country\n",
        "'''\n",
        "y"
      ],
      "metadata": {
        "colab": {
          "base_uri": "https://localhost:8080/",
          "height": 36
        },
        "id": "ojXuhTyRqecp",
        "outputId": "c196f596-671b-42cd-c319-2b51866d5f8c"
      },
      "execution_count": null,
      "outputs": [
        {
          "output_type": "execute_result",
          "data": {
            "text/plain": [
              "'\\nBangladesh\\nis\\na \\nsmall \\ncountry\\n'"
            ],
            "application/vnd.google.colaboratory.intrinsic+json": {
              "type": "string"
            }
          },
          "metadata": {},
          "execution_count": 32
        }
      ]
    },
    {
      "cell_type": "code",
      "source": [
        "type(x)"
      ],
      "metadata": {
        "colab": {
          "base_uri": "https://localhost:8080/"
        },
        "id": "dqA67wnmreHa",
        "outputId": "84310dee-42d7-454e-c284-00d47e41b1cb"
      },
      "execution_count": null,
      "outputs": [
        {
          "output_type": "execute_result",
          "data": {
            "text/plain": [
              "str"
            ]
          },
          "metadata": {},
          "execution_count": 97
        }
      ]
    },
    {
      "cell_type": "code",
      "source": [
        "#set\n",
        "s={1,2,3,4}"
      ],
      "metadata": {
        "id": "O9G68lr3rgqK"
      },
      "execution_count": null,
      "outputs": []
    },
    {
      "cell_type": "code",
      "source": [
        "type(s)"
      ],
      "metadata": {
        "colab": {
          "base_uri": "https://localhost:8080/"
        },
        "id": "XMf9rulrrlsS",
        "outputId": "e1b2d95b-8d93-4b39-e899-19bd541a3972"
      },
      "execution_count": null,
      "outputs": [
        {
          "output_type": "execute_result",
          "data": {
            "text/plain": [
              "set"
            ]
          },
          "metadata": {},
          "execution_count": 99
        }
      ]
    },
    {
      "cell_type": "markdown",
      "source": [
        "Dictionary"
      ],
      "metadata": {
        "id": "qiZvVSH7somh"
      }
    },
    {
      "cell_type": "code",
      "source": [
        "dic = {\n",
        "    'name':'md jasim uddim',\n",
        "    'Dept':'CSE'\n",
        "}"
      ],
      "metadata": {
        "id": "Lf4xz4Umr5ji"
      },
      "execution_count": null,
      "outputs": []
    },
    {
      "cell_type": "code",
      "source": [
        "dic.keys()"
      ],
      "metadata": {
        "colab": {
          "base_uri": "https://localhost:8080/"
        },
        "id": "GUwqa-8Qscbi",
        "outputId": "309dae89-a7c3-422f-bd74-028924b208d6"
      },
      "execution_count": null,
      "outputs": [
        {
          "output_type": "execute_result",
          "data": {
            "text/plain": [
              "dict_keys(['name', 'Dept'])"
            ]
          },
          "metadata": {},
          "execution_count": 101
        }
      ]
    },
    {
      "cell_type": "code",
      "source": [
        "dic.values()"
      ],
      "metadata": {
        "colab": {
          "base_uri": "https://localhost:8080/"
        },
        "id": "uxq-WRk0set2",
        "outputId": "4898c59a-146d-4101-c139-01162d728c59"
      },
      "execution_count": null,
      "outputs": [
        {
          "output_type": "execute_result",
          "data": {
            "text/plain": [
              "dict_values(['md jasim uddim', 'CSE'])"
            ]
          },
          "metadata": {},
          "execution_count": 102
        }
      ]
    },
    {
      "cell_type": "code",
      "source": [
        "#Data frame\n",
        "import pandas as pd\n",
        "# df = pd.read_csv('myname.csv')"
      ],
      "metadata": {
        "id": "Id4KXeoYsiJd"
      },
      "execution_count": null,
      "outputs": []
    },
    {
      "cell_type": "code",
      "source": [
        "isinstance(x,type(x))"
      ],
      "metadata": {
        "colab": {
          "base_uri": "https://localhost:8080/"
        },
        "id": "omtxW9GCu8-K",
        "outputId": "f05c5ee9-bb00-42d9-8947-9f12886a2eb0"
      },
      "execution_count": null,
      "outputs": [
        {
          "output_type": "execute_result",
          "data": {
            "text/plain": [
              "True"
            ]
          },
          "metadata": {},
          "execution_count": 104
        }
      ]
    },
    {
      "cell_type": "markdown",
      "source": [
        "Binary Types "
      ],
      "metadata": {
        "id": "qM5WFNwiv6vT"
      }
    },
    {
      "cell_type": "code",
      "source": [
        "byte_arr = bytearray('ABCDE','utf-8') "
      ],
      "metadata": {
        "id": "WjwSuLyRvjzR"
      },
      "execution_count": null,
      "outputs": []
    },
    {
      "cell_type": "code",
      "source": [
        "type(byte_arr)"
      ],
      "metadata": {
        "colab": {
          "base_uri": "https://localhost:8080/"
        },
        "id": "TzCw_CvZwJRo",
        "outputId": "0ad84f38-4724-420f-b190-91c16be19b20"
      },
      "execution_count": null,
      "outputs": [
        {
          "output_type": "execute_result",
          "data": {
            "text/plain": [
              "bytearray"
            ]
          },
          "metadata": {},
          "execution_count": 106
        }
      ]
    },
    {
      "cell_type": "code",
      "source": [
        "byte_arr"
      ],
      "metadata": {
        "colab": {
          "base_uri": "https://localhost:8080/"
        },
        "id": "VrthEjLFwLqx",
        "outputId": "429e5710-77ab-4212-ebb1-a4a6eeec114f"
      },
      "execution_count": null,
      "outputs": [
        {
          "output_type": "execute_result",
          "data": {
            "text/plain": [
              "bytearray(b'ABCDE')"
            ]
          },
          "metadata": {},
          "execution_count": 107
        }
      ]
    },
    {
      "cell_type": "code",
      "source": [
        "memoryview(byte_arr)"
      ],
      "metadata": {
        "colab": {
          "base_uri": "https://localhost:8080/"
        },
        "id": "qM2w2LK7wU5R",
        "outputId": "24efa555-8cd0-452d-c96f-e32f877cb3ff"
      },
      "execution_count": null,
      "outputs": [
        {
          "output_type": "execute_result",
          "data": {
            "text/plain": [
              "<memory at 0x7f024f2bfd00>"
            ]
          },
          "metadata": {},
          "execution_count": 108
        }
      ]
    },
    {
      "cell_type": "code",
      "source": [
        "memoryview(byte_arr)[0]"
      ],
      "metadata": {
        "colab": {
          "base_uri": "https://localhost:8080/"
        },
        "id": "i78JB3lvxNJx",
        "outputId": "7f65cb81-0bd1-4225-d1b8-83445cbc2dcf"
      },
      "execution_count": null,
      "outputs": [
        {
          "output_type": "execute_result",
          "data": {
            "text/plain": [
              "65"
            ]
          },
          "metadata": {},
          "execution_count": 109
        }
      ]
    },
    {
      "cell_type": "code",
      "source": [
        "mv = memoryview(byte_arr)\n",
        "mv[0]"
      ],
      "metadata": {
        "id": "fYAUTsynzG_L",
        "colab": {
          "base_uri": "https://localhost:8080/"
        },
        "outputId": "feb6e654-5135-44b6-994a-09853ab3c3ed"
      },
      "execution_count": null,
      "outputs": [
        {
          "output_type": "execute_result",
          "data": {
            "text/plain": [
              "65"
            ]
          },
          "metadata": {},
          "execution_count": 110
        }
      ]
    },
    {
      "cell_type": "code",
      "source": [
        "#Declare a array\n",
        "name = ar.array('f',[1,2,3,4,5])\n",
        "name"
      ],
      "metadata": {
        "colab": {
          "base_uri": "https://localhost:8080/"
        },
        "id": "JR5Fuogm0KT5",
        "outputId": "34cc14ca-6328-4170-a9a6-46f372c25200"
      },
      "execution_count": null,
      "outputs": [
        {
          "output_type": "execute_result",
          "data": {
            "text/plain": [
              "array('f', [1.0, 2.0, 3.0, 4.0, 5.0])"
            ]
          },
          "metadata": {},
          "execution_count": 111
        }
      ]
    },
    {
      "cell_type": "markdown",
      "source": [
        "## Operators in python tutorial -05"
      ],
      "metadata": {
        "id": "nhyI9B-hDt8Q"
      }
    },
    {
      "cell_type": "code",
      "source": [
        "#Arithmatic operator\n",
        "#Identity operator\n",
        "#Bitwise operator\n",
        "#Comparison operator\n",
        "#logical operator\n",
        "#Assignment operator"
      ],
      "metadata": {
        "id": "ioCsgfnvDi3Q"
      },
      "execution_count": null,
      "outputs": []
    },
    {
      "cell_type": "markdown",
      "source": [
        "#Arithmatic operator"
      ],
      "metadata": {
        "id": "y9seTPGkEcT_"
      }
    },
    {
      "cell_type": "code",
      "source": [
        "# +,-,*,/,%,**,// addition,substraction,multipication,division,modulus,exponential,floor division"
      ],
      "metadata": {
        "id": "Y7JRXwwBEiTQ"
      },
      "execution_count": null,
      "outputs": []
    },
    {
      "cell_type": "markdown",
      "source": [
        "## Identity Operator"
      ],
      "metadata": {
        "id": "SIRIUKIdFMKX"
      }
    },
    {
      "cell_type": "code",
      "source": [
        "# is,Returns true if both variables are the same object  ; as like x is y\n",
        "#is not ,Returns true if both variables are not the same object ; as like x is not y"
      ],
      "metadata": {
        "id": "RJlILcdHE9x4"
      },
      "execution_count": null,
      "outputs": []
    },
    {
      "cell_type": "markdown",
      "source": [
        "## Bitwise operator"
      ],
      "metadata": {
        "id": "wV5lshjGKs8F"
      }
    },
    {
      "cell_type": "code",
      "source": [
        "# &,|,^,~,>>,<<,And,Or,Xor,Not,signed right shift ,"
      ],
      "metadata": {
        "id": "zVDs98OaJc54"
      },
      "execution_count": null,
      "outputs": []
    },
    {
      "cell_type": "markdown",
      "source": [
        "## Comparision operator "
      ],
      "metadata": {
        "id": "rO2ufpaLOmm1"
      }
    },
    {
      "cell_type": "code",
      "source": [
        "# ==,!=,>,<,>=,<=   Equal, Not Equal, Greater than, Less Than, Greater than or equal , Less than or equal"
      ],
      "metadata": {
        "id": "sk1UNFD9OrH7"
      },
      "execution_count": null,
      "outputs": []
    },
    {
      "cell_type": "markdown",
      "source": [
        "## Logical Operator "
      ],
      "metadata": {
        "id": "5Hx8wJ7TPOVQ"
      }
    },
    {
      "cell_type": "code",
      "source": [
        "# and,or,not "
      ],
      "metadata": {
        "id": "tadjPLimPCXY"
      },
      "execution_count": null,
      "outputs": []
    },
    {
      "cell_type": "markdown",
      "source": [
        "## Assignment operator  "
      ],
      "metadata": {
        "id": "gug_IFd0PgS_"
      }
    },
    {
      "cell_type": "code",
      "source": [
        "# =,+=,-=,*=,/=,&=.%= "
      ],
      "metadata": {
        "id": "iE0preXoPmJ6"
      },
      "execution_count": null,
      "outputs": []
    },
    {
      "cell_type": "code",
      "source": [
        "# python code using arithmatic operator \n",
        "x = 15\n",
        "y = 4\n",
        "z = 3\n",
        "x+y"
      ],
      "metadata": {
        "colab": {
          "base_uri": "https://localhost:8080/"
        },
        "id": "n5K2nlckQMwg",
        "outputId": "2137f7c3-15a6-4be1-8554-4350e08c9f90"
      },
      "execution_count": null,
      "outputs": [
        {
          "output_type": "execute_result",
          "data": {
            "text/plain": [
              "19"
            ]
          },
          "metadata": {},
          "execution_count": 119
        }
      ]
    },
    {
      "cell_type": "code",
      "source": [
        "x-y"
      ],
      "metadata": {
        "colab": {
          "base_uri": "https://localhost:8080/"
        },
        "id": "A6tjcN91Tg74",
        "outputId": "9de81fff-037b-45cf-ce80-ccfe8f8fb6cb"
      },
      "execution_count": null,
      "outputs": [
        {
          "output_type": "execute_result",
          "data": {
            "text/plain": [
              "11"
            ]
          },
          "metadata": {},
          "execution_count": 120
        }
      ]
    },
    {
      "cell_type": "code",
      "source": [
        "x/y"
      ],
      "metadata": {
        "colab": {
          "base_uri": "https://localhost:8080/"
        },
        "id": "xOtSCKtNTiDP",
        "outputId": "e5a593a0-e743-4d64-b9ee-b28bd705efe0"
      },
      "execution_count": null,
      "outputs": [
        {
          "output_type": "execute_result",
          "data": {
            "text/plain": [
              "3.75"
            ]
          },
          "metadata": {},
          "execution_count": 121
        }
      ]
    },
    {
      "cell_type": "code",
      "source": [
        "x % y"
      ],
      "metadata": {
        "colab": {
          "base_uri": "https://localhost:8080/"
        },
        "id": "t6IMFnWtTjZX",
        "outputId": "25610265-94c6-4496-ae03-b633219355dc"
      },
      "execution_count": null,
      "outputs": [
        {
          "output_type": "execute_result",
          "data": {
            "text/plain": [
              "3"
            ]
          },
          "metadata": {},
          "execution_count": 122
        }
      ]
    },
    {
      "cell_type": "code",
      "source": [
        "x**y"
      ],
      "metadata": {
        "colab": {
          "base_uri": "https://localhost:8080/"
        },
        "id": "ucrpBHw-Tl2n",
        "outputId": "f7148eef-133c-47a7-ce82-e7dfc7aca03f"
      },
      "execution_count": null,
      "outputs": [
        {
          "output_type": "execute_result",
          "data": {
            "text/plain": [
              "50625"
            ]
          },
          "metadata": {},
          "execution_count": 123
        }
      ]
    },
    {
      "cell_type": "code",
      "source": [
        "x // y\n"
      ],
      "metadata": {
        "colab": {
          "base_uri": "https://localhost:8080/"
        },
        "id": "rgcYOEUjToM9",
        "outputId": "f22aa075-5e65-4a94-82e4-b9b499d205fa"
      },
      "execution_count": null,
      "outputs": [
        {
          "output_type": "execute_result",
          "data": {
            "text/plain": [
              "3"
            ]
          },
          "metadata": {},
          "execution_count": 124
        }
      ]
    },
    {
      "cell_type": "code",
      "source": [
        "import math\n",
        "math.floor(x / y)"
      ],
      "metadata": {
        "colab": {
          "base_uri": "https://localhost:8080/"
        },
        "id": "kIbsILh1TuD0",
        "outputId": "e386b861-d7ba-43f3-afb4-e267cb8fe961"
      },
      "execution_count": null,
      "outputs": [
        {
          "output_type": "execute_result",
          "data": {
            "text/plain": [
              "3"
            ]
          },
          "metadata": {},
          "execution_count": 125
        }
      ]
    },
    {
      "cell_type": "code",
      "source": [
        "math.ceil(x / y)"
      ],
      "metadata": {
        "colab": {
          "base_uri": "https://localhost:8080/"
        },
        "id": "pX2wuS0IUfdf",
        "outputId": "309e4bcf-f3e4-47cd-93f1-d6ad66a065ca"
      },
      "execution_count": null,
      "outputs": [
        {
          "output_type": "execute_result",
          "data": {
            "text/plain": [
              "4"
            ]
          },
          "metadata": {},
          "execution_count": 126
        }
      ]
    },
    {
      "cell_type": "code",
      "source": [
        "#identity opertor with python code\n",
        "x = 10\n",
        "y  = 10\n",
        "x is y"
      ],
      "metadata": {
        "colab": {
          "base_uri": "https://localhost:8080/"
        },
        "id": "N8SwY3ScUjiX",
        "outputId": "a41699b7-aa0e-4ef3-8eda-0dbcaca993d0"
      },
      "execution_count": null,
      "outputs": [
        {
          "output_type": "execute_result",
          "data": {
            "text/plain": [
              "True"
            ]
          },
          "metadata": {},
          "execution_count": 127
        }
      ]
    },
    {
      "cell_type": "code",
      "source": [
        "x = 10000\n",
        "y = 10000\n",
        "x is y\n"
      ],
      "metadata": {
        "colab": {
          "base_uri": "https://localhost:8080/"
        },
        "id": "HdmpVl7cWUP-",
        "outputId": "50a2b25a-6d84-4ed6-a594-ad67051972c8"
      },
      "execution_count": null,
      "outputs": [
        {
          "output_type": "execute_result",
          "data": {
            "text/plain": [
              "False"
            ]
          },
          "metadata": {},
          "execution_count": 128
        }
      ]
    },
    {
      "cell_type": "code",
      "source": [
        "id(x)"
      ],
      "metadata": {
        "colab": {
          "base_uri": "https://localhost:8080/"
        },
        "id": "hSvkmZ7dWYJm",
        "outputId": "cd123f0e-c857-4cd9-bcc5-30590181f630"
      },
      "execution_count": null,
      "outputs": [
        {
          "output_type": "execute_result",
          "data": {
            "text/plain": [
              "139647894799856"
            ]
          },
          "metadata": {},
          "execution_count": 129
        }
      ]
    },
    {
      "cell_type": "code",
      "source": [
        "id(y)"
      ],
      "metadata": {
        "colab": {
          "base_uri": "https://localhost:8080/"
        },
        "id": "PZU7dZLiWz2f",
        "outputId": "5b0ff05b-f47e-49c9-9dec-b78a8b3f3368"
      },
      "execution_count": null,
      "outputs": [
        {
          "output_type": "execute_result",
          "data": {
            "text/plain": [
              "139647894800592"
            ]
          },
          "metadata": {},
          "execution_count": 130
        }
      ]
    },
    {
      "cell_type": "code",
      "source": [
        "x = 10000\n",
        "y = x \n",
        "x is y"
      ],
      "metadata": {
        "colab": {
          "base_uri": "https://localhost:8080/"
        },
        "id": "7-L_NfruW0_P",
        "outputId": "ac4c3983-f710-49e1-c995-fb9fa727165e"
      },
      "execution_count": null,
      "outputs": [
        {
          "output_type": "execute_result",
          "data": {
            "text/plain": [
              "True"
            ]
          },
          "metadata": {},
          "execution_count": 131
        }
      ]
    },
    {
      "cell_type": "code",
      "source": [
        "# Membership operator \n",
        "list1 = [1,2,3,4,54,5,7]\n",
        "1 in list1"
      ],
      "metadata": {
        "colab": {
          "base_uri": "https://localhost:8080/"
        },
        "id": "3BAU5_N-XTjd",
        "outputId": "a01f0ddd-5ac1-446d-cf8c-48855d58be4a"
      },
      "execution_count": null,
      "outputs": [
        {
          "output_type": "execute_result",
          "data": {
            "text/plain": [
              "True"
            ]
          },
          "metadata": {},
          "execution_count": 132
        }
      ]
    },
    {
      "cell_type": "code",
      "source": [
        "10 in list1"
      ],
      "metadata": {
        "colab": {
          "base_uri": "https://localhost:8080/"
        },
        "id": "4MsYQC-FZOxo",
        "outputId": "347b2a14-5075-4d5a-f4f5-10fce504887d"
      },
      "execution_count": null,
      "outputs": [
        {
          "output_type": "execute_result",
          "data": {
            "text/plain": [
              "False"
            ]
          },
          "metadata": {},
          "execution_count": 133
        }
      ]
    },
    {
      "cell_type": "code",
      "source": [
        "s1 = {1,2,3,4,5,6}\n",
        "9 in s1"
      ],
      "metadata": {
        "colab": {
          "base_uri": "https://localhost:8080/"
        },
        "id": "JH7cDP5MZQys",
        "outputId": "4fc622e3-41ab-4be1-c299-9e16c0ec1a45"
      },
      "execution_count": null,
      "outputs": [
        {
          "output_type": "execute_result",
          "data": {
            "text/plain": [
              "False"
            ]
          },
          "metadata": {},
          "execution_count": 134
        }
      ]
    },
    {
      "cell_type": "code",
      "source": [
        "str1 = \"Bangladesh is a small country in south asia.\";\n",
        "\"is\" in str1"
      ],
      "metadata": {
        "colab": {
          "base_uri": "https://localhost:8080/"
        },
        "id": "U-qHLx5jaZvx",
        "outputId": "8141ffc9-f795-4579-c185-46a17c6f3663"
      },
      "execution_count": null,
      "outputs": [
        {
          "output_type": "execute_result",
          "data": {
            "text/plain": [
              "True"
            ]
          },
          "metadata": {},
          "execution_count": 135
        }
      ]
    },
    {
      "cell_type": "code",
      "source": [
        "\"bangladesh\" in str1"
      ],
      "metadata": {
        "colab": {
          "base_uri": "https://localhost:8080/"
        },
        "id": "1Nh2zZ0_a_im",
        "outputId": "166d86b5-a211-4251-8d1f-a968cb73e56b"
      },
      "execution_count": null,
      "outputs": [
        {
          "output_type": "execute_result",
          "data": {
            "text/plain": [
              "False"
            ]
          },
          "metadata": {},
          "execution_count": 136
        }
      ]
    },
    {
      "cell_type": "code",
      "source": [
        "#Phyton bitwise operator \n",
        "# x = 1010\n",
        "# y = 101\n",
        "# x|y = 1111\n"
      ],
      "metadata": {
        "id": "CzhdJFVnex8O"
      },
      "execution_count": null,
      "outputs": []
    },
    {
      "cell_type": "code",
      "source": [
        "x = 10\n",
        "y = 5\n",
        "x&y"
      ],
      "metadata": {
        "colab": {
          "base_uri": "https://localhost:8080/"
        },
        "id": "NT7WI3uee_zQ",
        "outputId": "0252eeba-4a8e-45cb-fb6d-06f2341a32e5"
      },
      "execution_count": null,
      "outputs": [
        {
          "output_type": "execute_result",
          "data": {
            "text/plain": [
              "0"
            ]
          },
          "metadata": {},
          "execution_count": 138
        }
      ]
    },
    {
      "cell_type": "code",
      "source": [
        "x|y"
      ],
      "metadata": {
        "colab": {
          "base_uri": "https://localhost:8080/"
        },
        "id": "NwbOUuecgdU-",
        "outputId": "35763914-ed6d-4d5d-9cf1-5370a890fcf7"
      },
      "execution_count": null,
      "outputs": [
        {
          "output_type": "execute_result",
          "data": {
            "text/plain": [
              "15"
            ]
          },
          "metadata": {},
          "execution_count": 139
        }
      ]
    },
    {
      "cell_type": "code",
      "source": [
        "x^y"
      ],
      "metadata": {
        "colab": {
          "base_uri": "https://localhost:8080/"
        },
        "id": "hc0Cwd7QhTOH",
        "outputId": "e3dbd9fc-5cc2-4a5e-fe18-cb6bd7ac042f"
      },
      "execution_count": null,
      "outputs": [
        {
          "output_type": "execute_result",
          "data": {
            "text/plain": [
              "15"
            ]
          },
          "metadata": {},
          "execution_count": 140
        }
      ]
    },
    {
      "cell_type": "markdown",
      "source": [
        "## Comparision operator"
      ],
      "metadata": {
        "id": "eO4Pt4mY5QKs"
      }
    },
    {
      "cell_type": "code",
      "source": [
        "10 == 10"
      ],
      "metadata": {
        "colab": {
          "base_uri": "https://localhost:8080/"
        },
        "id": "8v_ho8YBhjiI",
        "outputId": "a075954c-5bb8-4d15-984c-30309e092ef4"
      },
      "execution_count": null,
      "outputs": [
        {
          "output_type": "execute_result",
          "data": {
            "text/plain": [
              "True"
            ]
          },
          "metadata": {},
          "execution_count": 141
        }
      ]
    },
    {
      "cell_type": "code",
      "source": [
        "10 > 10"
      ],
      "metadata": {
        "colab": {
          "base_uri": "https://localhost:8080/"
        },
        "id": "RE3hICjb5bAp",
        "outputId": "e28d1450-da27-49f5-ea37-93ccfb97630d"
      },
      "execution_count": null,
      "outputs": [
        {
          "output_type": "execute_result",
          "data": {
            "text/plain": [
              "False"
            ]
          },
          "metadata": {},
          "execution_count": 142
        }
      ]
    },
    {
      "cell_type": "code",
      "source": [
        "10 != 12"
      ],
      "metadata": {
        "colab": {
          "base_uri": "https://localhost:8080/"
        },
        "id": "TEVyLrfg5c4x",
        "outputId": "c7008938-08cc-4d4b-a617-a21ea5fb2a10"
      },
      "execution_count": null,
      "outputs": [
        {
          "output_type": "execute_result",
          "data": {
            "text/plain": [
              "True"
            ]
          },
          "metadata": {},
          "execution_count": 143
        }
      ]
    },
    {
      "cell_type": "markdown",
      "source": [
        "## Logical operator "
      ],
      "metadata": {
        "id": "IT8LkDEF6C76"
      }
    },
    {
      "cell_type": "code",
      "source": [
        "10 > 4 and 10 < 3"
      ],
      "metadata": {
        "colab": {
          "base_uri": "https://localhost:8080/"
        },
        "id": "mp854YYc5iFg",
        "outputId": "83f647cc-cfe2-4970-be7c-81d51462669a"
      },
      "execution_count": null,
      "outputs": [
        {
          "output_type": "execute_result",
          "data": {
            "text/plain": [
              "False"
            ]
          },
          "metadata": {},
          "execution_count": 144
        }
      ]
    },
    {
      "cell_type": "code",
      "source": [
        "10 > 4 or 10 < 3"
      ],
      "metadata": {
        "colab": {
          "base_uri": "https://localhost:8080/"
        },
        "id": "Vvu5zP6j6NDJ",
        "outputId": "b6787438-62ee-41ea-e7f2-5a7abd697834"
      },
      "execution_count": null,
      "outputs": [
        {
          "output_type": "execute_result",
          "data": {
            "text/plain": [
              "True"
            ]
          },
          "metadata": {},
          "execution_count": 145
        }
      ]
    },
    {
      "cell_type": "code",
      "source": [
        "not(10 > 4 or 10 < 3)"
      ],
      "metadata": {
        "colab": {
          "base_uri": "https://localhost:8080/"
        },
        "id": "Wwgotglf6Rph",
        "outputId": "1f896fda-fb0d-4a25-f646-3eb9c756c3f0"
      },
      "execution_count": null,
      "outputs": [
        {
          "output_type": "execute_result",
          "data": {
            "text/plain": [
              "False"
            ]
          },
          "metadata": {},
          "execution_count": 146
        }
      ]
    },
    {
      "cell_type": "code",
      "source": [
        "x = 4\n",
        "x+=10\n"
      ],
      "metadata": {
        "id": "Ub_ffJT96VM5"
      },
      "execution_count": null,
      "outputs": []
    },
    {
      "cell_type": "code",
      "source": [
        "x"
      ],
      "metadata": {
        "colab": {
          "base_uri": "https://localhost:8080/"
        },
        "id": "NE8HdluC7nFR",
        "outputId": "b944fa0b-063d-41ad-b800-e5af99ea1e29"
      },
      "execution_count": null,
      "outputs": [
        {
          "output_type": "execute_result",
          "data": {
            "text/plain": [
              "14"
            ]
          },
          "metadata": {},
          "execution_count": 148
        }
      ]
    },
    {
      "cell_type": "code",
      "source": [],
      "metadata": {
        "id": "8KtUQt1Y7nmY"
      },
      "execution_count": null,
      "outputs": []
    },
    {
      "cell_type": "markdown",
      "source": [
        "## Python Condition tutorial - 07"
      ],
      "metadata": {
        "id": "9SBqhlSo7rrS"
      }
    },
    {
      "cell_type": "code",
      "source": [
        "x = 500\n",
        "y = 100\n",
        "z = 50\n",
        "if(y > x):\n",
        "  print('Y is greater than X')\n",
        "elif(y == x):\n",
        "  print('X and Y both are equal');\n",
        "else:\n",
        "  print(\"Y is less than x\")"
      ],
      "metadata": {
        "colab": {
          "base_uri": "https://localhost:8080/"
        },
        "id": "QEonVhka7zgG",
        "outputId": "8ab845e0-0a5e-4e11-8fb2-2b0e11227b6f"
      },
      "execution_count": null,
      "outputs": [
        {
          "output_type": "stream",
          "name": "stdout",
          "text": [
            "Y is less than x\n"
          ]
        }
      ]
    },
    {
      "cell_type": "code",
      "source": [
        "x = 500\n",
        "y = 100\n",
        "z = 50\n",
        "if(y > x):\n",
        "  if(y>z):\n",
        "    print('Y is the biggest number among them')\n",
        "elif(y<x):\n",
        "  if(x>z):\n",
        "    print('X is the biggest number among them');\n",
        "else:\n",
        "  print(\"Z is the biggest number\")"
      ],
      "metadata": {
        "colab": {
          "base_uri": "https://localhost:8080/"
        },
        "id": "c6kEp0hc-Raq",
        "outputId": "9d45adca-a332-45d4-82fb-a19ed726d250"
      },
      "execution_count": null,
      "outputs": [
        {
          "output_type": "stream",
          "name": "stdout",
          "text": [
            "X is the biggest number among them\n"
          ]
        }
      ]
    },
    {
      "cell_type": "code",
      "source": [
        "Dept = 'Data Science'\n",
        "if Dept == 'Data Science':\n",
        "  print('You have a great future!')\n",
        "else:\n",
        "  print('Worried!')\n",
        "print('Learn Data Science with Study Mart')"
      ],
      "metadata": {
        "colab": {
          "base_uri": "https://localhost:8080/"
        },
        "id": "RYWXWvuH_1yC",
        "outputId": "d6f67835-564a-4e2e-aefd-bc9c7a0d64b2"
      },
      "execution_count": null,
      "outputs": [
        {
          "output_type": "stream",
          "name": "stdout",
          "text": [
            "You have a great future!\n",
            "Learn Data Science with Study Mart\n"
          ]
        }
      ]
    },
    {
      "cell_type": "code",
      "source": [
        "x = int(input('Enter the first number:'))\n",
        "y = int(input('Enter the second number:'))\n",
        "z = int(input('Enter the third number:'))\n",
        "if(x > y):\n",
        "  if(x > z):\n",
        "    print('first number is biggest among them')\n",
        "elif(y > x):\n",
        "  if(y > z):\n",
        "    print('second number is biggest among them')\n",
        "else:\n",
        "  print('Third number is biggest among them')"
      ],
      "metadata": {
        "colab": {
          "base_uri": "https://localhost:8080/"
        },
        "id": "F4hAPtzpsHJJ",
        "outputId": "fa587795-5aec-42da-fc76-2a4a6cf2dfac"
      },
      "execution_count": null,
      "outputs": [
        {
          "output_type": "stream",
          "name": "stdout",
          "text": [
            "Enter the first number:10\n",
            "Enter the second number:29\n",
            "Enter the third number:25\n",
            "second number is biggest among them\n"
          ]
        }
      ]
    },
    {
      "cell_type": "markdown",
      "source": [
        "2# Assignment:"
      ],
      "metadata": {
        "id": "-eQS713fCIkY"
      }
    },
    {
      "cell_type": "code",
      "source": [
        "2\n",
        "#problem 01 \n",
        "len = float(input(\"Enter the length of a Rectangle: \"))\n",
        "breadth = float(input(\"Enter the breadth of a Rectangle: \"))\n",
        "\n",
        "if (len == breadth):\n",
        "  print('It is square')\n",
        "else:\n",
        "  print(\"It's not square \")"
      ],
      "metadata": {
        "colab": {
          "base_uri": "https://localhost:8080/"
        },
        "id": "KiM4VHEpBB_w",
        "outputId": "f1e10520-1720-43e1-c899-e64982eeb262"
      },
      "execution_count": null,
      "outputs": [
        {
          "output_type": "stream",
          "name": "stdout",
          "text": [
            "Enter the length of a Rectangle: 12\n",
            "Enter the breadth of a Rectangle: 13\n",
            "It's not square \n"
          ]
        }
      ]
    },
    {
      "cell_type": "code",
      "source": [
        "#Problem 02\n",
        "x = int(input(\"Enter the first number: \"));\n",
        "y = int(input(\"Enter the second number: \"));\n",
        "z = int(input(\"Enter the third number: \"));\n",
        "if(x>y and x>z):\n",
        "  print('X is the largest number among them')\n",
        "elif(y>x and y>z):\n",
        "  print('Y is the largest number among them')\n",
        "else:\n",
        "  print('Z is the largest number among them')"
      ],
      "metadata": {
        "colab": {
          "base_uri": "https://localhost:8080/"
        },
        "id": "jgWV8WqrCHQ7",
        "outputId": "7d37a87c-5b19-4bee-a6dd-65601b86a34e"
      },
      "execution_count": null,
      "outputs": [
        {
          "output_type": "stream",
          "name": "stdout",
          "text": [
            "Enter the first number: 8\n",
            "Enter the second number: 4\n",
            "Enter the third number: 5\n",
            "X is the largest number among them\n"
          ]
        }
      ]
    },
    {
      "cell_type": "code",
      "source": [
        "#Problem 03\n",
        "total_class_held = int(input('Total classess held: '))\n",
        "total_class_present = int(input('Total classes present: '))\n",
        "attendence = float((total_class_held/total_class_present)*100)\n",
        "\n",
        "if(attendence >= 75):\n",
        "  print('You have allowed to sit in the exam')\n",
        "else:\n",
        "  print('You are not allowed to sit in the exam')"
      ],
      "metadata": {
        "colab": {
          "base_uri": "https://localhost:8080/"
        },
        "id": "JCZ0wIzC8fuB",
        "outputId": "0e4b60f7-8dad-4e7c-cba2-7a332d7d425a"
      },
      "execution_count": null,
      "outputs": [
        {
          "output_type": "stream",
          "name": "stdout",
          "text": [
            "Total classess held: 12\n",
            "Total classes present: 15\n",
            "You have allowed to sit in the exam\n"
          ]
        }
      ]
    },
    {
      "cell_type": "code",
      "source": [
        "#problem 04\n",
        "marks = float(input(\"Enter the marks that you have earned:\"))\n",
        "\n",
        "if(marks < 25):\n",
        "  print('You have failed in this exam')\n",
        "elif(marks >= 25 and marks <=44):\n",
        "  print('You have got E grade')\n",
        "elif(marks >= 45 and marks <=49):\n",
        "  print('You have got D grade')\n",
        "elif(marks >= 50 and marks <= 59):\n",
        "  print('You have got C grade')\n",
        "elif(marks >= 60 and marks <= 79):\n",
        "  print('You have got B grade')\n",
        "elif(marks >= 80 and marks <= 89):\n",
        "  print('You have got A grade')\n",
        "else:\n",
        "  print('You have got A+ grade')\n"
      ],
      "metadata": {
        "colab": {
          "base_uri": "https://localhost:8080/"
        },
        "id": "zcx4z6SQ-TtB",
        "outputId": "ecdb0c3a-4115-4f35-e327-f2607c73952a"
      },
      "execution_count": null,
      "outputs": [
        {
          "output_type": "stream",
          "name": "stdout",
          "text": [
            "Enter the marks that you have earned:67\n",
            "You have got B grade\n"
          ]
        }
      ]
    },
    {
      "cell_type": "code",
      "source": [
        "2"
      ],
      "metadata": {
        "colab": {
          "base_uri": "https://localhost:8080/"
        },
        "id": "Kt-81YkRDAlB",
        "outputId": "64aaece9-61f4-4a15-cf42-144f1943dcd6"
      },
      "execution_count": null,
      "outputs": [
        {
          "output_type": "execute_result",
          "data": {
            "text/plain": [
              "2"
            ]
          },
          "metadata": {},
          "execution_count": 5
        }
      ]
    },
    {
      "cell_type": "code",
      "source": [
        "import math\n"
      ],
      "metadata": {
        "id": "Ol1nTIt9ER-D"
      },
      "execution_count": null,
      "outputs": []
    },
    {
      "cell_type": "code",
      "source": [
        "math.floor(123.2)"
      ],
      "metadata": {
        "colab": {
          "base_uri": "https://localhost:8080/"
        },
        "id": "9snoxVWgcLK2",
        "outputId": "5d2ac66e-d320-4cb8-df85-3b65b36b9caa"
      },
      "execution_count": null,
      "outputs": [
        {
          "output_type": "execute_result",
          "data": {
            "text/plain": [
              "123"
            ]
          },
          "metadata": {},
          "execution_count": 7
        }
      ]
    },
    {
      "cell_type": "code",
      "source": [
        "for i in range(1,10):\n",
        "  print(i)"
      ],
      "metadata": {
        "colab": {
          "base_uri": "https://localhost:8080/"
        },
        "id": "pXV4O0kscYff",
        "outputId": "c4affca2-0d64-4c59-f058-3d2764c9d48e"
      },
      "execution_count": null,
      "outputs": [
        {
          "output_type": "stream",
          "name": "stdout",
          "text": [
            "1\n",
            "2\n",
            "3\n",
            "4\n",
            "5\n",
            "6\n",
            "7\n",
            "8\n",
            "9\n"
          ]
        }
      ]
    },
    {
      "cell_type": "code",
      "source": [
        "a = \"Hello, World!\"\n",
        "for x in a:\n",
        "  print(x)"
      ],
      "metadata": {
        "colab": {
          "base_uri": "https://localhost:8080/"
        },
        "id": "YPOyI9ebdM8d",
        "outputId": "2d725f61-458b-4223-e5d5-9dcce6d9856d"
      },
      "execution_count": null,
      "outputs": [
        {
          "output_type": "stream",
          "name": "stdout",
          "text": [
            "H\n",
            "e\n",
            "l\n",
            "l\n",
            "o\n",
            ",\n",
            " \n",
            "W\n",
            "o\n",
            "r\n",
            "l\n",
            "d\n",
            "!\n"
          ]
        }
      ]
    },
    {
      "cell_type": "markdown",
      "source": [
        "## For Loop -tutorial 09"
      ],
      "metadata": {
        "id": "_UFeaVpCQYGi"
      }
    },
    {
      "cell_type": "code",
      "source": [
        "subjects = [\"ai\", \"data science\", \"statics\", \"math\"]"
      ],
      "metadata": {
        "id": "vfZnYmftf1RW"
      },
      "execution_count": null,
      "outputs": []
    },
    {
      "cell_type": "code",
      "source": [
        "for x in subjects:\n",
        "  print(x)"
      ],
      "metadata": {
        "colab": {
          "base_uri": "https://localhost:8080/"
        },
        "id": "BWXakc40Qz3c",
        "outputId": "4cf17d53-7150-4db9-ba04-8431dc5ca975"
      },
      "execution_count": null,
      "outputs": [
        {
          "output_type": "stream",
          "name": "stdout",
          "text": [
            "ai\n",
            "data science\n",
            "statics\n",
            "math\n"
          ]
        }
      ]
    },
    {
      "cell_type": "code",
      "source": [
        "def fact():\n",
        "  i = 1\n",
        "  for i "
      ],
      "metadata": {
        "id": "5dCbpJT6uPSH"
      },
      "execution_count": null,
      "outputs": []
    },
    {
      "cell_type": "code",
      "source": [
        "for x in 'phython':\n",
        "  print(x)"
      ],
      "metadata": {
        "colab": {
          "base_uri": "https://localhost:8080/"
        },
        "id": "ET3a9oM8Q2so",
        "outputId": "7d15c7e7-678b-4eba-e63a-ae321030ca99"
      },
      "execution_count": null,
      "outputs": [
        {
          "output_type": "stream",
          "name": "stdout",
          "text": [
            "p\n",
            "h\n",
            "y\n",
            "t\n",
            "h\n",
            "o\n",
            "n\n"
          ]
        }
      ]
    },
    {
      "cell_type": "code",
      "source": [
        "range(10)"
      ],
      "metadata": {
        "colab": {
          "base_uri": "https://localhost:8080/"
        },
        "id": "GCZkm906Tgko",
        "outputId": "0d0acd3f-bd47-4a9f-c043-9f77da811b68"
      },
      "execution_count": null,
      "outputs": [
        {
          "output_type": "execute_result",
          "data": {
            "text/plain": [
              "range(0, 10)"
            ]
          },
          "metadata": {},
          "execution_count": 13
        }
      ]
    },
    {
      "cell_type": "code",
      "source": [
        "# data = 'this line is written for python code'\n",
        "# for x in range(len(data)):\n",
        "#   print(data[x])"
      ],
      "metadata": {
        "id": "5oXtD1mdX8MF"
      },
      "execution_count": null,
      "outputs": []
    },
    {
      "cell_type": "code",
      "source": [
        "num = int(input(\"Enter a number: \"))\n",
        "i = 2;\n",
        "p = 1\n",
        "while(i<num):\n",
        "  if(num % i ==0):\n",
        "    p=0\n",
        "  i += 1\n",
        "if p == 1:\n",
        "  print('prime')\n",
        "elif p == 0:\n",
        "  print('Not a Prime')"
      ],
      "metadata": {
        "colab": {
          "base_uri": "https://localhost:8080/"
        },
        "id": "sR1LIPfnYa2m",
        "outputId": "8dad0a75-18b2-41cd-e165-f076c43366a8"
      },
      "execution_count": null,
      "outputs": [
        {
          "output_type": "stream",
          "name": "stdout",
          "text": [
            "Enter a number: 1\n",
            "prime\n"
          ]
        }
      ]
    },
    {
      "cell_type": "code",
      "source": [
        "n = [2,3,4,5,6,7,8,9,10]\n",
        "total = 0\n",
        "for x in n:\n",
        "  total = total + x\n",
        "print('Total',total)"
      ],
      "metadata": {
        "colab": {
          "base_uri": "https://localhost:8080/"
        },
        "id": "TVZ0i1GLY1kN",
        "outputId": "57e6a230-b735-4322-c04a-e2a5a14be117"
      },
      "execution_count": null,
      "outputs": [
        {
          "output_type": "stream",
          "name": "stdout",
          "text": [
            "Total 54\n"
          ]
        }
      ]
    },
    {
      "cell_type": "code",
      "source": [],
      "metadata": {
        "id": "U-JcVQsDfhTt"
      },
      "execution_count": null,
      "outputs": []
    },
    {
      "cell_type": "code",
      "source": [
        "for i in range(10):\n",
        "  print('Data science',i)"
      ],
      "metadata": {
        "colab": {
          "base_uri": "https://localhost:8080/"
        },
        "id": "XbiMI4ezgajk",
        "outputId": "c2d8d4b2-b61d-4520-8aeb-c65193a11cf1"
      },
      "execution_count": null,
      "outputs": [
        {
          "output_type": "stream",
          "name": "stdout",
          "text": [
            "Data science 0\n",
            "Data science 1\n",
            "Data science 2\n",
            "Data science 3\n",
            "Data science 4\n",
            "Data science 5\n",
            "Data science 6\n",
            "Data science 7\n",
            "Data science 8\n",
            "Data science 9\n"
          ]
        }
      ]
    },
    {
      "cell_type": "markdown",
      "source": [
        "## Loop practise questions exercise\n",
        "\n",
        "> Indented block\n",
        "\n"
      ],
      "metadata": {
        "id": "stu46YtdGZUF"
      }
    },
    {
      "cell_type": "code",
      "source": [
        "#Exercise - 01 Display numbers from -100 to -10 using for loop\n",
        "for i in range(-100,-10,1):\n",
        "  print(i)\n"
      ],
      "metadata": {
        "id": "ux3LuPfkF9ik"
      },
      "execution_count": null,
      "outputs": []
    },
    {
      "cell_type": "code",
      "source": [
        "#Exercise - 02 Write a program to sum all the prime numbers within a range 10 to 1000\n",
        "def prime(n): \n",
        "    for i in range(2,n//2+1): \n",
        "        if(n%i==0): \n",
        "            return(0) \n",
        "    return(1) \n",
        "     \n",
        "sum=0 \n",
        "for i in range(10,1000): \n",
        "    if(prime(i)): \n",
        "        sum+=i \n",
        "print(\"Sum:\",sum) \n",
        "\n",
        "\n"
      ],
      "metadata": {
        "colab": {
          "base_uri": "https://localhost:8080/"
        },
        "id": "4yfHT7zuG0BQ",
        "outputId": "d5f3b41b-9bfd-4718-cde4-6f2f9b4e73f4"
      },
      "execution_count": null,
      "outputs": [
        {
          "output_type": "stream",
          "name": "stdout",
          "text": [
            "Sum: 76110\n"
          ]
        }
      ]
    },
    {
      "cell_type": "code",
      "source": [
        "def factorial(n):\n",
        "  if(n == 0):\n",
        "    return 1\n",
        "  else:\n",
        "    return n* factorial(n-1)\n",
        "print(factorial(5))\n",
        "\n",
        "\n",
        "def fact(n):\n",
        "  fact = 1\n",
        "  for i in range(1, n+1):\n",
        "    fact = fact * i\n",
        "  print(fact)\n",
        "fact(5)"
      ],
      "metadata": {
        "colab": {
          "base_uri": "https://localhost:8080/"
        },
        "id": "7-X0cPeyvr0B",
        "outputId": "fe0ad4a8-a3e1-4ac9-d6e0-49b5c131e426"
      },
      "execution_count": null,
      "outputs": [
        {
          "output_type": "stream",
          "name": "stdout",
          "text": [
            "120\n",
            "120\n"
          ]
        }
      ]
    },
    {
      "cell_type": "code",
      "source": [
        "#Exercise -03 Find the factorial of n !(hint, 7 = 7*6*5*4*3*2*1)\n",
        "\n",
        "fact = 1\n",
        "n = int(input('Enter the number:'))\n",
        "for i in range(1,n+1):\n",
        "  fact = fact * i\n",
        "print('Factorial of',n,'is=',fact)"
      ],
      "metadata": {
        "colab": {
          "base_uri": "https://localhost:8080/"
        },
        "id": "y_6VXpHXHB13",
        "outputId": "daa1f825-51d4-4945-d531-fd567ac1601d"
      },
      "execution_count": null,
      "outputs": [
        {
          "output_type": "stream",
          "name": "stdout",
          "text": [
            "Enter the number:5\n",
            "Factorial of 5 is 120\n"
          ]
        }
      ]
    },
    {
      "cell_type": "code",
      "source": [
        "def fact(n):\n",
        "  fact = 1\n",
        "  # n = int(input('Enter the number:'))\n",
        "  for i in range(1,n+1):\n",
        "    fact = fact * i\n",
        "  print('Factorial of',n,'is=',fact)\n",
        "fact(5)"
      ],
      "metadata": {
        "colab": {
          "base_uri": "https://localhost:8080/"
        },
        "id": "jAIaVCcVugPP",
        "outputId": "8e12dc2e-87ed-4fd4-9ff9-fc868eb0abe9"
      },
      "execution_count": null,
      "outputs": [
        {
          "output_type": "stream",
          "name": "stdout",
          "text": [
            "Factorial of 5 is= 120\n"
          ]
        }
      ]
    },
    {
      "cell_type": "code",
      "source": [
        "def fact(n):\n",
        "  if n == 0:\n",
        "    return 1;\n",
        "  else:\n",
        "    return n * fact(n-1)\n",
        "num = int(input(\"Enter the positive number:\")) \n",
        "print('The number of',num,'factorial is =',fact(num))\n"
      ],
      "metadata": {
        "colab": {
          "base_uri": "https://localhost:8080/"
        },
        "id": "HOh4jUz8WLs9",
        "outputId": "ab5f57e5-06c9-4e86-b20b-abe6b2f46dc8"
      },
      "execution_count": null,
      "outputs": [
        {
          "output_type": "stream",
          "name": "stdout",
          "text": [
            "Enter the positive number:5\n",
            "The number of 5 factorial is= 120\n"
          ]
        }
      ]
    },
    {
      "cell_type": "code",
      "source": [
        "#Exercise o4 Reverse a given integer number 27956240710\n",
        "\n",
        "num = 27956240710\n",
        "reverse_num = 0\n",
        "while num > 0:\n",
        "  reminder = num % 10\n",
        "  reverse_num = reverse_num * 10 + reminder\n",
        "  num = num // 10\n",
        "print(reverse_num)"
      ],
      "metadata": {
        "colab": {
          "base_uri": "https://localhost:8080/"
        },
        "id": "n5OiHtQYHU7A",
        "outputId": "9f61167d-0571-4f32-deef-e95c43b4c8a0"
      },
      "execution_count": null,
      "outputs": [
        {
          "output_type": "stream",
          "name": "stdout",
          "text": [
            "1704265972\n"
          ]
        }
      ]
    },
    {
      "cell_type": "code",
      "source": [
        "data = 'jas'\n",
        "print(len(data))"
      ],
      "metadata": {
        "colab": {
          "base_uri": "https://localhost:8080/"
        },
        "id": "A06LsyHpHphY",
        "outputId": "aff303d0-6366-453d-db7c-b1d14a0826db"
      },
      "execution_count": null,
      "outputs": [
        {
          "output_type": "stream",
          "name": "stdout",
          "text": [
            "3\n"
          ]
        }
      ]
    },
    {
      "cell_type": "code",
      "source": [
        "list = [1,3,3,4,5,('jasim', 'rahim', 'karim')]"
      ],
      "metadata": {
        "id": "vJ816lvsnG2P"
      },
      "execution_count": null,
      "outputs": []
    },
    {
      "cell_type": "code",
      "source": [
        "for i in list:\n",
        "  print(i)"
      ],
      "metadata": {
        "colab": {
          "base_uri": "https://localhost:8080/"
        },
        "id": "OX3VzGk5xOWA",
        "outputId": "3e65ad96-d8a0-4a9c-f03d-daba8f6d110d"
      },
      "execution_count": null,
      "outputs": [
        {
          "output_type": "stream",
          "name": "stdout",
          "text": [
            "1\n",
            "3\n",
            "3\n",
            "4\n",
            "5\n",
            "('jasim', 'rahim', 'karim')\n"
          ]
        }
      ]
    },
    {
      "cell_type": "code",
      "source": [
        "len(list)"
      ],
      "metadata": {
        "colab": {
          "base_uri": "https://localhost:8080/"
        },
        "id": "LZ4dQpRBxSrg",
        "outputId": "c88bc192-1103-440a-84f7-5947a7d5f45e"
      },
      "execution_count": null,
      "outputs": [
        {
          "output_type": "execute_result",
          "data": {
            "text/plain": [
              "6"
            ]
          },
          "metadata": {},
          "execution_count": 46
        }
      ]
    },
    {
      "cell_type": "code",
      "source": [
        "list.append('safayet')"
      ],
      "metadata": {
        "id": "qJZ0BeILxdmJ"
      },
      "execution_count": null,
      "outputs": []
    },
    {
      "cell_type": "code",
      "source": [
        "list"
      ],
      "metadata": {
        "colab": {
          "base_uri": "https://localhost:8080/"
        },
        "id": "tVt9Zt5Jxu4Y",
        "outputId": "49756e3b-e8fb-4abc-803d-115297f5d1eb"
      },
      "execution_count": null,
      "outputs": [
        {
          "output_type": "execute_result",
          "data": {
            "text/plain": [
              "[1, 3, 3, 4, 5, ('jasim', 'rahim', 'karim'), 'safayet']"
            ]
          },
          "metadata": {},
          "execution_count": 48
        }
      ]
    },
    {
      "cell_type": "code",
      "source": [
        "list[0:]"
      ],
      "metadata": {
        "colab": {
          "base_uri": "https://localhost:8080/"
        },
        "id": "rD_ZFtotxv-4",
        "outputId": "a94172f2-498f-465d-99f7-2dea7ee49590"
      },
      "execution_count": null,
      "outputs": [
        {
          "output_type": "execute_result",
          "data": {
            "text/plain": [
              "[1, 3, 3, 4, 5, ('jasim', 'rahim', 'karim'), 'safayet']"
            ]
          },
          "metadata": {},
          "execution_count": 50
        }
      ]
    },
    {
      "cell_type": "code",
      "source": [
        "# creating list using list constructor\n",
        "\n",
        "l1 = []\n",
        "n = 5\n",
        "for i in range(n):\n",
        "  new = int(input())\n",
        "  l1.append(new)\n",
        "print(l1)"
      ],
      "metadata": {
        "colab": {
          "base_uri": "https://localhost:8080/"
        },
        "id": "D81YXDPtx0Q4",
        "outputId": "0a6ed691-befb-471a-8e6e-7f30745cf092"
      },
      "execution_count": null,
      "outputs": [
        {
          "output_type": "stream",
          "name": "stdout",
          "text": [
            "1\n",
            "2\n",
            "3\n",
            "4\n",
            "5\n",
            "[1, 2, 3, 4, 5]\n"
          ]
        }
      ]
    },
    {
      "cell_type": "code",
      "source": [
        "\n"
      ],
      "metadata": {
        "id": "_W_62N_WyHDg"
      },
      "execution_count": null,
      "outputs": []
    },
    {
      "cell_type": "code",
      "source": [],
      "metadata": {
        "id": "TIDBYldbyHfq"
      },
      "execution_count": null,
      "outputs": []
    }
  ]
}